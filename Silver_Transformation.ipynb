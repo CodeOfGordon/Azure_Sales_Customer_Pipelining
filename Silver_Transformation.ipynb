{
 "cells": [
  {
   "cell_type": "markdown",
   "metadata": {
    "application/vnd.databricks.v1+cell": {
     "cellMetadata": {},
     "inputWidgets": {},
     "nuid": "e25c23e9-146b-4dee-9eea-fee42a13284a",
     "showTitle": false,
     "tableResultSettingsMap": {},
     "title": ""
    }
   },
   "source": [
    "# Transforming the Raw Data (Silver Layer)\n",
    "## Setting Permissions"
   ]
  },
  {
   "cell_type": "code",
   "execution_count": 0,
   "metadata": {
    "application/vnd.databricks.v1+cell": {
     "cellMetadata": {
      "byteLimit": 2048000,
      "rowLimit": 10000
     },
     "inputWidgets": {},
     "nuid": "191c53bc-af1b-46d2-b47e-055f888da1be",
     "showTitle": false,
     "tableResultSettingsMap": {},
     "title": ""
    }
   },
   "outputs": [],
   "source": [
    "# Grab the secret key from the key vault that is stored with the databricks secret scope\n",
    "service_credential = dbutils.secrets.get(scope=\"<scope>\",key=\"<service-credential-key (key vault name)>\")\n",
    "\n",
    "# Connect to data lake with the secret key using OAuth 2.0\n",
    "spark.conf.set(\"fs.azure.account.auth.type.<storage-account>.dfs.core.windows.net\", \"OAuth\")\n",
    "spark.conf.set(\"fs.azure.account.oauth.provider.type.<storage-account>.dfs.core.windows.net\", \"org.apache.hadoop.fs.azurebfs.oauth2.ClientCredsTokenProvider\")\n",
    "spark.conf.set(\"fs.azure.account.oauth2.client.id.<storage-account>.dfs.core.windows.net\", \"<application-id>\")\n",
    "spark.conf.set(\"fs.azure.account.oauth2.client.secret.<storage-account>.dfs.core.windows.net\", service_credential)\n",
    "spark.conf.set(\"fs.azure.account.oauth2.client.endpoint.<storage-account>.dfs.core.windows.net\", \"https://login.microsoftonline.com/<directory-id>/oauth2/token\")\n",
    "\n",
    "\n"
   ]
  },
  {
   "cell_type": "markdown",
   "metadata": {
    "application/vnd.databricks.v1+cell": {
     "cellMetadata": {},
     "inputWidgets": {},
     "nuid": "a6dfb3f5-2ad8-4e1f-a3c0-70a6ad07fc2e",
     "showTitle": false,
     "tableResultSettingsMap": {},
     "title": ""
    }
   },
   "source": [
    "## Data Ingestion"
   ]
  },
  {
   "cell_type": "code",
   "execution_count": 0,
   "metadata": {
    "application/vnd.databricks.v1+cell": {
     "cellMetadata": {
      "byteLimit": 2048000,
      "rowLimit": 10000
     },
     "inputWidgets": {},
     "nuid": "d467f999-235c-48e9-b24e-f551c7058d6d",
     "showTitle": false,
     "tableResultSettingsMap": {},
     "title": ""
    }
   },
   "outputs": [],
   "source": [
    "# Import libraries\n",
    "from pyspark.sql.functions import *\n",
    "from pyspark.sql.types import *"
   ]
  },
  {
   "cell_type": "code",
   "execution_count": 0,
   "metadata": {
    "application/vnd.databricks.v1+cell": {
     "cellMetadata": {
      "byteLimit": 2048000,
      "rowLimit": 10000
     },
     "inputWidgets": {},
     "nuid": "932d8e9b-3e63-4aa8-bdda-ebfab62ffcd3",
     "showTitle": false,
     "tableResultSettingsMap": {},
     "title": ""
    }
   },
   "outputs": [],
   "source": [
    "bronze_folder = 'abfss://bronze@<storage-account>.dfs.core.windows.net/'\n",
    "subfolders = {\n",
    "    'territories': 'adventureworks-territories',\n",
    "    'sales-2017': 'adventureworks-sales-2017',\n",
    "    'sales-2016': 'adventureworks-sales-2016',\n",
    "    'sales-2015': 'adventureworks-sales-2015',\n",
    "    'returns': 'adventureworks-returns',\n",
    "    'products': 'adventureworks-products',\n",
    "    'product-subcategories': 'adventureworks-product-subcategories',\n",
    "    'product-categories': 'adventureworks-product-categories',\n",
    "    'customers': 'adventureworks-customers',\n",
    "    'calendar': 'adventureworks-calendar'\n",
    "}\n",
    "sales_subfolders = ['sales-2017', 'sales-2016', 'sales-2015']\n",
    "csv_config_options = {\n",
    "    'header': True,\n",
    "    'inferSchema': True\n",
    "}\n",
    "\n",
    "df_territories = spark.read.format('csv').options(**csv_config_options).load(bronze_folder + subfolders['territories'])\n",
    "\n",
    "df_sales = spark.read.format('csv').options(**csv_config_options).load([bronze_folder + subfolders[subfolder] for subfolder in subfolders if subfolder in sales_subfolders])\n",
    "\n",
    "df_returns = spark.read.format('csv').options(**csv_config_options).load(bronze_folder + subfolders['returns'])\n",
    "\n",
    "df_products = spark.read.format('csv').options(**csv_config_options).load(bronze_folder + subfolders['products'])\n",
    "\n",
    "df_products_subcat = spark.read.format('csv').options(**csv_config_options).load(bronze_folder + subfolders['product-subcategories'])\n",
    "\n",
    "df_products_cat = spark.read.format('csv').options(**csv_config_options).load(bronze_folder + subfolders['product-categories'])\n",
    "\n",
    "df_customers = spark.read.format('csv').options(**csv_config_options).load(bronze_folder + subfolders['customers'])\n",
    "\n",
    "df_calendar = spark.read.format('csv').options(**csv_config_options).load(bronze_folder + subfolders['calendar'])"
   ]
  },
  {
   "cell_type": "markdown",
   "metadata": {
    "application/vnd.databricks.v1+cell": {
     "cellMetadata": {},
     "inputWidgets": {},
     "nuid": "012013c3-e7b0-41b9-8529-b259b942c4fc",
     "showTitle": false,
     "tableResultSettingsMap": {},
     "title": ""
    }
   },
   "source": [
    "## Data Transformation"
   ]
  },
  {
   "cell_type": "code",
   "execution_count": 0,
   "metadata": {
    "application/vnd.databricks.v1+cell": {
     "cellMetadata": {
      "byteLimit": 2048000,
      "rowLimit": 10000
     },
     "inputWidgets": {},
     "nuid": "1ca7d650-d2ac-40ff-9cd8-ae62207d55af",
     "showTitle": false,
     "tableResultSettingsMap": {},
     "title": ""
    }
   },
   "outputs": [],
   "source": [
    "# Import libraries\n",
    "from pyspark.sql import DataFrame, Column"
   ]
  },
  {
   "cell_type": "code",
   "execution_count": 0,
   "metadata": {
    "application/vnd.databricks.v1+cell": {
     "cellMetadata": {
      "byteLimit": 2048000,
      "rowLimit": 10000
     },
     "inputWidgets": {},
     "nuid": "73bf8183-f65e-445c-9178-b6f874500614",
     "showTitle": false,
     "tableResultSettingsMap": {},
     "title": ""
    }
   },
   "outputs": [],
   "source": [
    "# Environment variables\n",
    "silver_folder = 'abfss://silver@<storage-account>.dfs.core.windows.net/'\n",
    "# will save in the Paruqet format due to its column metadata and row chunks allowing for faster projection/filtering, which is what the end-user will be doing when they're analyzing the data\n",
    "\n",
    "def write_store_parquet(data_frame: DataFrame, subfolder: str):\n",
    "    data_frame.write\\\n",
    "        .format('parquet')\\\n",
    "        .mode('overwrite')\\\n",
    "        .option('path', silver_folder + subfolder)\\\n",
    "        .save()\n",
    "\n",
    "def read_parquet(subfolder: str) -> DataFrame:\n",
    "    return spark.read\\\n",
    "        .format('parquet')\\\n",
    "        .load(silver_folder + subfolder)\n",
    "    \n"
   ]
  },
  {
   "cell_type": "markdown",
   "metadata": {
    "application/vnd.databricks.v1+cell": {
     "cellMetadata": {},
     "inputWidgets": {},
     "nuid": "4202882e-d1b5-4512-8d64-454efadfcd50",
     "showTitle": false,
     "tableResultSettingsMap": {},
     "title": ""
    }
   },
   "source": [
    "##### Calendar"
   ]
  },
  {
   "cell_type": "code",
   "execution_count": 0,
   "metadata": {
    "application/vnd.databricks.v1+cell": {
     "cellMetadata": {
      "byteLimit": 2048000,
      "rowLimit": 10000
     },
     "inputWidgets": {},
     "nuid": "15fec12d-5ca9-413c-aa29-9a872e81ec25",
     "showTitle": false,
     "tableResultSettingsMap": {},
     "title": ""
    }
   },
   "outputs": [
    {
     "name": "stdout",
     "output_type": "stream",
     "text": [
      "+----------+-----+----+\n",
      "|      Date|Month|Year|\n",
      "+----------+-----+----+\n",
      "|2015-01-01|    1|2015|\n",
      "|2015-01-02|    1|2015|\n",
      "|2015-01-03|    1|2015|\n",
      "|2015-01-04|    1|2015|\n",
      "|2015-01-05|    1|2015|\n",
      "|2015-01-06|    1|2015|\n",
      "|2015-01-07|    1|2015|\n",
      "|2015-01-08|    1|2015|\n",
      "|2015-01-09|    1|2015|\n",
      "|2015-01-10|    1|2015|\n",
      "|2015-01-11|    1|2015|\n",
      "|2015-01-12|    1|2015|\n",
      "|2015-01-13|    1|2015|\n",
      "|2015-01-14|    1|2015|\n",
      "|2015-01-15|    1|2015|\n",
      "|2015-01-16|    1|2015|\n",
      "|2015-01-17|    1|2015|\n",
      "|2015-01-18|    1|2015|\n",
      "|2015-01-19|    1|2015|\n",
      "|2015-01-20|    1|2015|\n",
      "+----------+-----+----+\n",
      "only showing top 20 rows\n"
     ]
    }
   ],
   "source": [
    "# df_calendar.display()\n",
    "# Transform: Month, Year cols for better granularity for PowerBI user\n",
    "\n",
    "df_calendar = df_calendar.withColumn('Month', month('Date'))\\\n",
    "    .withColumn('Year', year('Date'))\n",
    "\n",
    "# Save\n",
    "write_store_parquet(df_calendar, subfolders['calendar'])\n",
    "df_calendar.show()"
   ]
  },
  {
   "cell_type": "markdown",
   "metadata": {
    "application/vnd.databricks.v1+cell": {
     "cellMetadata": {},
     "inputWidgets": {},
     "nuid": "40b66912-105a-4d80-988b-3ee9bdbc6c16",
     "showTitle": false,
     "tableResultSettingsMap": {},
     "title": ""
    }
   },
   "source": [
    "##### Customer"
   ]
  },
  {
   "cell_type": "code",
   "execution_count": 0,
   "metadata": {
    "application/vnd.databricks.v1+cell": {
     "cellMetadata": {
      "byteLimit": 2048000,
      "rowLimit": 10000
     },
     "inputWidgets": {},
     "nuid": "a3a62915-4bee-4e29-966d-b60fb9011408",
     "showTitle": false,
     "tableResultSettingsMap": {},
     "title": ""
    }
   },
   "outputs": [
    {
     "name": "stdout",
     "output_type": "stream",
     "text": [
      "+-----------+------+---------+--------+--------------------+----------+-------------+------+--------------------+------------+-------------+---------------+--------------+---------+\n",
      "|CustomerKey|Prefix|FirstName|LastName|            FullName| BirthDate|MaritalStatus|Gender|        EmailAddress|AnnualIncome|TotalChildren| EducationLevel|    Occupation|HomeOwner|\n",
      "+-----------+------+---------+--------+--------------------+----------+-------------+------+--------------------+------------+-------------+---------------+--------------+---------+\n",
      "|      11000|   MR.|      JON|    YANG|        MR. JON YANG|1966-04-08|            M|     M|jon24@adventure-w...|    $90,000 |            2|      Bachelors|  Professional|        Y|\n",
      "|      11001|   MR.|   EUGENE|   HUANG|    MR. EUGENE HUANG|1965-05-14|            S|     M|eugene10@adventur...|    $60,000 |            3|      Bachelors|  Professional|        N|\n",
      "|      11002|   MR.|    RUBEN|  TORRES|    MR. RUBEN TORRES|1965-08-12|            M|     M|ruben35@adventure...|    $60,000 |            3|      Bachelors|  Professional|        Y|\n",
      "|      11003|   MS.|  CHRISTY|     ZHU|     MS. CHRISTY ZHU|1968-02-15|            S|     F|christy12@adventu...|    $70,000 |            0|      Bachelors|  Professional|        N|\n",
      "|      11004|  MRS.|ELIZABETH| JOHNSON|MRS. ELIZABETH JO...|1968-08-08|            S|     F|elizabeth5@advent...|    $80,000 |            5|      Bachelors|  Professional|        Y|\n",
      "|      11005|   MR.|    JULIO|    RUIZ|      MR. JULIO RUIZ|1965-08-05|            S|     M|julio1@adventure-...|    $70,000 |            0|      Bachelors|  Professional|        Y|\n",
      "|      11007|   MR.|    MARCO|   MEHTA|     MR. MARCO MEHTA|1964-05-09|            M|     M|marco14@adventure...|    $60,000 |            3|      Bachelors|  Professional|        Y|\n",
      "|      11008|  MRS.|    ROBIN| VERHOFF|  MRS. ROBIN VERHOFF|1964-07-07|            S|     F|rob4@adventure-wo...|    $60,000 |            4|      Bachelors|  Professional|        Y|\n",
      "|      11009|   MR.|  SHANNON| CARLSON| MR. SHANNON CARLSON|1964-04-01|            S|     M|shannon38@adventu...|    $70,000 |            0|      Bachelors|  Professional|        N|\n",
      "|      11010|   MS.|JACQUELYN|  SUAREZ|MS. JACQUELYN SUAREZ|1964-02-06|            S|     F|jacquelyn20@adven...|    $70,000 |            0|      Bachelors|  Professional|        N|\n",
      "|      11011|   MR.|   CURTIS|      LU|       MR. CURTIS LU|1963-11-04|            M|     M|curtis9@adventure...|    $60,000 |            4|      Bachelors|  Professional|        Y|\n",
      "|      11012|  MRS.|   LAUREN|  WALKER|  MRS. LAUREN WALKER|1968-01-18|            M|     F|lauren41@adventur...|   $100,000 |            2|      Bachelors|    Management|        Y|\n",
      "|      11013|   MR.|      IAN| JENKINS|     MR. IAN JENKINS|1968-08-06|            M|     M|ian47@adventure-w...|   $100,000 |            2|      Bachelors|    Management|        Y|\n",
      "|      11014|  MRS.|   SYDNEY| BENNETT| MRS. SYDNEY BENNETT|1968-05-09|            S|     F|sydney23@adventur...|   $100,000 |            3|      Bachelors|    Management|        N|\n",
      "|      11015|   MS.|    CHLOE|   YOUNG|     MS. CHLOE YOUNG|1979-02-27|            S|     F|chloe23@adventure...|    $30,000 |            0|Partial College|Skilled Manual|        N|\n",
      "|      11016|   MR.|    WYATT|    HILL|      MR. WYATT HILL|1979-04-28|            M|     M|wyatt32@adventure...|    $30,000 |            0|Partial College|Skilled Manual|        Y|\n",
      "|      11017|  MRS.|  SHANNON|    WANG|   MRS. SHANNON WANG|1944-06-26|            S|     F|shannon1@adventur...|    $20,000 |            4|    High School|Skilled Manual|        Y|\n",
      "|      11018|   MR.| CLARENCE|     RAI|    MR. CLARENCE RAI|1944-10-09|            S|     M|clarence32@advent...|    $30,000 |            2|Partial College|      Clerical|        Y|\n",
      "|      11019|   MR.|     LUKE|     LAL|        MR. LUKE LAL|1978-03-07|            S|     M|luke18@adventure-...|    $40,000 |            0|    High School|Skilled Manual|        N|\n",
      "|      11020|   MR.|   JORDAN|    KING|     MR. JORDAN KING|1978-09-20|            S|     M|jordan73@adventur...|    $40,000 |            0|    High School|Skilled Manual|        N|\n",
      "+-----------+------+---------+--------+--------------------+----------+-------------+------+--------------------+------------+-------------+---------------+--------------+---------+\n",
      "only showing top 20 rows\n"
     ]
    }
   ],
   "source": [
    "# df_customers.display()\n",
    "# Transform: Full name\n",
    "\n",
    "# Create FullName column\n",
    "combine_fullname = concat_ws(' ', df_customers.Prefix, df_customers.FirstName, df_customers.LastName)\n",
    "\n",
    "# Add FullName column\n",
    "df_customers = df_customers.withColumn('FullName', combine_fullname)\n",
    "# Recall dataframes are immutable, so must edit metadata (columns) and create new Dataframe with it\n",
    "columns = df_customers.columns\n",
    "# Reposition FullName column\n",
    "full_name_index = columns.index('FullName')\n",
    "last_name_index = columns.index('LastName')\n",
    "columns.insert(last_name_index + 1, columns.pop(full_name_index))\n",
    "df_customers_reordered = df_customers.select(*columns)\n",
    "\n",
    "# Save\n",
    "write_store_parquet(df_customers_reordered, subfolders['customers'])\n",
    "df_customers_reordered.show()"
   ]
  },
  {
   "cell_type": "markdown",
   "metadata": {
    "application/vnd.databricks.v1+cell": {
     "cellMetadata": {},
     "inputWidgets": {},
     "nuid": "441fd55b-e693-4d98-8fd8-2621e26f24da",
     "showTitle": false,
     "tableResultSettingsMap": {},
     "title": ""
    }
   },
   "source": [
    "##### Product Categories"
   ]
  },
  {
   "cell_type": "code",
   "execution_count": 0,
   "metadata": {
    "application/vnd.databricks.v1+cell": {
     "cellMetadata": {
      "byteLimit": 2048000,
      "rowLimit": 10000
     },
     "inputWidgets": {},
     "nuid": "f7d2373a-5e75-49d4-b30d-598800b28895",
     "showTitle": false,
     "tableResultSettingsMap": {},
     "title": ""
    }
   },
   "outputs": [
    {
     "name": "stdout",
     "output_type": "stream",
     "text": [
      "+------------------+------------+\n",
      "|ProductCategoryKey|CategoryName|\n",
      "+------------------+------------+\n",
      "|                 1|       Bikes|\n",
      "|                 2|  Components|\n",
      "|                 3|    Clothing|\n",
      "|                 4| Accessories|\n",
      "+------------------+------------+\n",
      "\n"
     ]
    }
   ],
   "source": [
    "# df_products_cat.display()\n",
    "write_store_parquet(df_products_cat, subfolders['product-categories'])\n",
    "df_products_cat.show()"
   ]
  },
  {
   "cell_type": "markdown",
   "metadata": {
    "application/vnd.databricks.v1+cell": {
     "cellMetadata": {},
     "inputWidgets": {},
     "nuid": "6c75534d-eab1-481d-aa6e-d69f9387295a",
     "showTitle": false,
     "tableResultSettingsMap": {},
     "title": ""
    }
   },
   "source": [
    "##### Product SubCategories"
   ]
  },
  {
   "cell_type": "code",
   "execution_count": 0,
   "metadata": {
    "application/vnd.databricks.v1+cell": {
     "cellMetadata": {
      "byteLimit": 2048000,
      "rowLimit": 10000
     },
     "inputWidgets": {},
     "nuid": "8feb0f22-e45a-4b9c-bdfb-81d95e63c6e7",
     "showTitle": false,
     "tableResultSettingsMap": {},
     "title": ""
    }
   },
   "outputs": [
    {
     "name": "stdout",
     "output_type": "stream",
     "text": [
      "+---------------------+---------------+------------------+\n",
      "|ProductSubcategoryKey|SubcategoryName|ProductCategoryKey|\n",
      "+---------------------+---------------+------------------+\n",
      "|                    1| Mountain Bikes|                 1|\n",
      "|                    2|     Road Bikes|                 1|\n",
      "|                    3|  Touring Bikes|                 1|\n",
      "|                    4|     Handlebars|                 2|\n",
      "|                    5|Bottom Brackets|                 2|\n",
      "|                    6|         Brakes|                 2|\n",
      "|                    7|         Chains|                 2|\n",
      "|                    8|      Cranksets|                 2|\n",
      "|                    9|    Derailleurs|                 2|\n",
      "|                   10|          Forks|                 2|\n",
      "|                   11|       Headsets|                 2|\n",
      "|                   12|Mountain Frames|                 2|\n",
      "|                   13|         Pedals|                 2|\n",
      "|                   14|    Road Frames|                 2|\n",
      "|                   15|        Saddles|                 2|\n",
      "|                   16| Touring Frames|                 2|\n",
      "|                   17|         Wheels|                 2|\n",
      "|                   18|     Bib-Shorts|                 3|\n",
      "|                   19|           Caps|                 3|\n",
      "|                   20|         Gloves|                 3|\n",
      "+---------------------+---------------+------------------+\n",
      "only showing top 20 rows\n"
     ]
    }
   ],
   "source": [
    "# df_products_subcat.display()\n",
    "write_store_parquet(df_products_subcat, subfolders['product-subcategories'])\n",
    "df_products_subcat.show()"
   ]
  },
  {
   "cell_type": "markdown",
   "metadata": {
    "application/vnd.databricks.v1+cell": {
     "cellMetadata": {},
     "inputWidgets": {},
     "nuid": "e8f6ce0e-debd-424d-9a4b-f05ebd90f22f",
     "showTitle": false,
     "tableResultSettingsMap": {},
     "title": ""
    }
   },
   "source": [
    "##### Product\n"
   ]
  },
  {
   "cell_type": "code",
   "execution_count": 0,
   "metadata": {
    "application/vnd.databricks.v1+cell": {
     "cellMetadata": {
      "byteLimit": 2048000,
      "rowLimit": 10000
     },
     "inputWidgets": {},
     "nuid": "0e15d7ad-5a4e-4f79-b0e0-36ea7fa8fd18",
     "showTitle": false,
     "tableResultSettingsMap": {},
     "title": ""
    }
   },
   "outputs": [],
   "source": [
    "# Create function for repositioning columns\n",
    "def reposition_columns(data_frame: DataFrame, target_col: str, curr_col: str)-> DataFrame:\n",
    "    columns = data_frame.columns\n",
    "    # Reposition target column\n",
    "    target_col_index = columns.index(target_col)\n",
    "    curr_pos_index = columns.index(curr_col)\n",
    "    columns.insert(target_col_index + 1, columns.pop(curr_pos_index))\n",
    "    reordered_data_frame = data_frame.select(*columns)\n",
    "    return reordered_data_frame"
   ]
  },
  {
   "cell_type": "code",
   "execution_count": 0,
   "metadata": {
    "application/vnd.databricks.v1+cell": {
     "cellMetadata": {
      "byteLimit": 2048000,
      "rowLimit": 10000
     },
     "inputWidgets": {},
     "nuid": "63c7562b-73eb-4b7e-be7f-95e7a8071bb4",
     "showTitle": false,
     "tableResultSettingsMap": {},
     "title": ""
    }
   },
   "outputs": [
    {
     "name": "stdout",
     "output_type": "stream",
     "text": [
      "+----------+---------------------+----------+-----------+--------------------+--------------------+-------------+--------------------+------------+-----------+------------+-----------+------------+\n",
      "|ProductKey|ProductSubcategoryKey|ProductSKU|SKUcategory|         ProductName|           ModelName|Modelcategory|  ProductDescription|ProductColor|ProductSize|ProductStyle|ProductCost|ProductPrice|\n",
      "+----------+---------------------+----------+-----------+--------------------+--------------------+-------------+--------------------+------------+-----------+------------+-----------+------------+\n",
      "|       214|                   31| HL-U509-R|         HL|Sport-100 Helmet,...|           Sport-100|        Sport|Universal fit, we...|         Red|          0|           0|    13.0863|       34.99|\n",
      "|       215|                   31|   HL-U509|         HL|Sport-100 Helmet,...|           Sport-100|        Sport|Universal fit, we...|       Black|          0|           0|    12.0278|     33.6442|\n",
      "|       218|                   23| SO-B909-M|         SO|Mountain Bike Soc...| Mountain Bike Socks|     Mountain|Combination of na...|       White|          M|           U|     3.3963|         9.5|\n",
      "|       219|                   23| SO-B909-L|         SO|Mountain Bike Soc...| Mountain Bike Socks|     Mountain|Combination of na...|       White|          L|           U|     3.3963|         9.5|\n",
      "|       220|                   31| HL-U509-B|         HL|Sport-100 Helmet,...|           Sport-100|        Sport|Universal fit, we...|        Blue|          0|           0|    12.0278|     33.6442|\n",
      "|       223|                   19|   CA-1098|         CA|        AWC Logo Cap|         Cycling Cap|      Cycling|Traditional style...|       Multi|          0|           U|     5.7052|      8.6442|\n",
      "|       226|                   21| LJ-0192-S|         LJ|Long-Sleeve Logo ...|Long-Sleeve Logo ...|         Long|Unisex long-sleev...|       Multi|          S|           U|    31.7244|     48.0673|\n",
      "|       229|                   21| LJ-0192-M|         LJ|Long-Sleeve Logo ...|Long-Sleeve Logo ...|         Long|Unisex long-sleev...|       Multi|          M|           U|    31.7244|     48.0673|\n",
      "|       232|                   21| LJ-0192-L|         LJ|Long-Sleeve Logo ...|Long-Sleeve Logo ...|         Long|Unisex long-sleev...|       Multi|          L|           U|    31.7244|     48.0673|\n",
      "|       235|                   21| LJ-0192-X|         LJ|Long-Sleeve Logo ...|Long-Sleeve Logo ...|         Long|Unisex long-sleev...|       Multi|         XL|           U|    31.7244|     48.0673|\n",
      "|       238|                   14|FR-R92R-62|         FR|HL Road Frame - R...|       HL Road Frame|           HL|Our lightest and ...|         Red|         62|           U|   747.9682|   1263.4598|\n",
      "|       241|                   14|FR-R92R-44|         FR|HL Road Frame - R...|       HL Road Frame|           HL|Our lightest and ...|         Red|         44|           U|   747.9682|   1263.4598|\n",
      "|       244|                   14|FR-R92R-48|         FR|HL Road Frame - R...|       HL Road Frame|           HL|Our lightest and ...|         Red|         48|           U|   747.9682|   1263.4598|\n",
      "|       247|                   14|FR-R92R-52|         FR|HL Road Frame - R...|       HL Road Frame|           HL|Our lightest and ...|         Red|         52|           U|   747.9682|   1263.4598|\n",
      "|       250|                   14|FR-R92R-56|         FR|HL Road Frame - R...|       HL Road Frame|           HL|Our lightest and ...|         Red|         56|           U|   747.9682|   1263.4598|\n",
      "|       253|                   14|FR-R38B-58|         FR|LL Road Frame - B...|       LL Road Frame|           LL|The LL Frame prov...|       Black|         58|           U|   176.1997|    297.6346|\n",
      "|       256|                   14|FR-R38B-60|         FR|LL Road Frame - B...|       LL Road Frame|           LL|The LL Frame prov...|       Black|         60|           U|   176.1997|    297.6346|\n",
      "|       259|                   14|FR-R38B-62|         FR|LL Road Frame - B...|       LL Road Frame|           LL|The LL Frame prov...|       Black|         62|           U|   176.1997|    297.6346|\n",
      "|       262|                   14|FR-R38R-44|         FR|LL Road Frame - R...|       LL Road Frame|           LL|The LL Frame prov...|         Red|         44|           U|   181.4857|    306.5636|\n",
      "|       264|                   14|FR-R38R-48|         FR|LL Road Frame - R...|       LL Road Frame|           LL|The LL Frame prov...|         Red|         48|           U|   181.4857|    306.5636|\n",
      "+----------+---------------------+----------+-----------+--------------------+--------------------+-------------+--------------------+------------+-----------+------------+-----------+------------+\n",
      "only showing top 20 rows\n"
     ]
    }
   ],
   "source": [
    "# df_products.display()\n",
    "# Transform: \n",
    "#   SKUcategory = first acronym (e.g. HL), looks like it has to do with region/language as there are multiple rows with it\n",
    "#   Modelcateogry = first word/acronym (e.g. Sport), looks like it repeats and can be used for further analysis\n",
    "\n",
    "# Create SKUcategory\n",
    "ProductSKU_split = split(df_products.ProductSKU, '-')\n",
    "SKUcategory = ProductSKU_split[0]\n",
    "# Create Modelcategory\n",
    "ModelName_split = split(df_products.ModelName, '[- ]')\n",
    "Modelcategory = ModelName_split[0]\n",
    "\n",
    "# Reposition columns\n",
    "df_products = df_products.withColumn('SKUcategory', SKUcategory)\\\n",
    "    .withColumn('Modelcategory', Modelcategory)\n",
    "reordered_SKUcategory = reposition_columns(df_products, 'ProductSKU', 'SKUcategory')\n",
    "reordered_Modelcategory = reposition_columns(reordered_SKUcategory, 'ModelName', 'Modelcategory')\n",
    "\n",
    "# Save\n",
    "write_store_parquet(reordered_Modelcategory, subfolders['products'])\n",
    "reordered_Modelcategory.show()"
   ]
  },
  {
   "cell_type": "markdown",
   "metadata": {
    "application/vnd.databricks.v1+cell": {
     "cellMetadata": {},
     "inputWidgets": {},
     "nuid": "01a8898d-884b-47c3-9a71-88ae3cb5416b",
     "showTitle": false,
     "tableResultSettingsMap": {},
     "title": ""
    }
   },
   "source": [
    "##### Returns"
   ]
  },
  {
   "cell_type": "code",
   "execution_count": 0,
   "metadata": {
    "application/vnd.databricks.v1+cell": {
     "cellMetadata": {
      "byteLimit": 2048000,
      "rowLimit": 10000
     },
     "inputWidgets": {},
     "nuid": "b0f99636-e6fc-4c4c-96f9-552e0d538339",
     "showTitle": false,
     "tableResultSettingsMap": {},
     "title": ""
    }
   },
   "outputs": [
    {
     "name": "stdout",
     "output_type": "stream",
     "text": [
      "+----------+----------+------------+--------------+------------+-----------+\n",
      "|ProductKey|ReturnDate|TerritoryKey|ReturnQuantity|ProductPrice|ProductCost|\n",
      "+----------+----------+------------+--------------+------------+-----------+\n",
      "|       312|2015-01-18|           9|             1|     3578.27|  2171.2942|\n",
      "|       310|2015-01-18|          10|             1|     3578.27|  2171.2942|\n",
      "|       346|2015-01-21|           8|             1|     3399.99|  1912.1544|\n",
      "|       311|2015-01-22|           4|             1|     3578.27|  2171.2942|\n",
      "|       312|2015-02-02|           6|             1|     3578.27|  2171.2942|\n",
      "|       312|2015-02-15|           1|             1|     3578.27|  2171.2942|\n",
      "|       311|2015-02-19|           9|             1|     3578.27|  2171.2942|\n",
      "|       314|2015-02-24|           8|             1|     3578.27|  2171.2942|\n",
      "|       350|2015-03-08|           8|             1|     3374.99|  1898.0944|\n",
      "|       350|2015-03-13|           9|             1|     3374.99|  1898.0944|\n",
      "|       346|2015-03-14|           4|             1|     3399.99|  1912.1544|\n",
      "|       340|2015-03-15|           9|             1|    699.0982|   413.1463|\n",
      "|       311|2015-03-22|           4|             1|     3578.27|  2171.2942|\n",
      "|       312|2015-03-26|          10|             1|     3578.27|  2171.2942|\n",
      "|       312|2015-03-28|           7|             1|     3578.27|  2171.2942|\n",
      "|       314|2015-03-28|           9|             1|     3578.27|  2171.2942|\n",
      "|       311|2015-03-29|           9|             1|     3578.27|  2171.2942|\n",
      "|       311|2015-04-01|           8|             1|     3578.27|  2171.2942|\n",
      "|       311|2015-04-07|           9|             1|     3578.27|  2171.2942|\n",
      "|       351|2015-04-07|           9|             1|     3374.99|  1898.0944|\n",
      "+----------+----------+------------+--------------+------------+-----------+\n",
      "only showing top 20 rows\n"
     ]
    }
   ],
   "source": [
    "# df_returns.display()\n",
    "# Note: This is a fact table, so must be as granular as possible i.e. usually don't delete any columns since they're mostly numeric data, just add\n",
    "\n",
    "# Transform: Add the Price and Cost columns\n",
    "\n",
    "new_df_products = read_parquet(subfolders['products'])\n",
    "columns_to_add = new_df_products.select(new_df_products.ProductKey, new_df_products.ProductPrice, new_df_products.ProductCost)\n",
    "# Combine the tables by using a left join to retain all historical sales records, even if no matching product is found\n",
    "df_returns = df_returns.join(\n",
    "    columns_to_add, \n",
    "    on='ProductKey', \n",
    "    how='left'\n",
    ")\n",
    "\n",
    "write_store_parquet(df_returns, subfolders['returns'])\n",
    "df_returns.show()"
   ]
  },
  {
   "cell_type": "markdown",
   "metadata": {
    "application/vnd.databricks.v1+cell": {
     "cellMetadata": {},
     "inputWidgets": {},
     "nuid": "a0ef05fe-2d8a-4283-9117-647f0f14e7e7",
     "showTitle": false,
     "tableResultSettingsMap": {},
     "title": ""
    }
   },
   "source": [
    "##### Territories"
   ]
  },
  {
   "cell_type": "code",
   "execution_count": 0,
   "metadata": {
    "application/vnd.databricks.v1+cell": {
     "cellMetadata": {
      "byteLimit": 2048000,
      "rowLimit": 10000
     },
     "inputWidgets": {},
     "nuid": "c1cab05f-c0a3-4508-a88a-af0225a56525",
     "showTitle": false,
     "tableResultSettingsMap": {},
     "title": ""
    }
   },
   "outputs": [],
   "source": [
    "# df_territories.display()\n",
    "\n",
    "write_store_parquet(df_territories, subfolders['territories'])"
   ]
  },
  {
   "cell_type": "markdown",
   "metadata": {
    "application/vnd.databricks.v1+cell": {
     "cellMetadata": {},
     "inputWidgets": {},
     "nuid": "e2a61fa7-4b4e-4c55-9545-8cad2c5abed6",
     "showTitle": false,
     "tableResultSettingsMap": {},
     "title": ""
    }
   },
   "source": [
    "##### Sales"
   ]
  },
  {
   "cell_type": "code",
   "execution_count": 0,
   "metadata": {
    "application/vnd.databricks.v1+cell": {
     "cellMetadata": {
      "byteLimit": 2048000,
      "rowLimit": 10000
     },
     "inputWidgets": {},
     "nuid": "5f51f8a4-ae18-45cc-b6e9-8f004e4d78f6",
     "showTitle": false,
     "tableResultSettingsMap": {},
     "title": ""
    }
   },
   "outputs": [
    {
     "name": "stdout",
     "output_type": "stream",
     "text": [
      "+----------+----------+----------+-----------+-----------+------------+-------------+-------------+---------------------+----------+-----------+--------------------+--------------------+-------------+--------------------+------------+-----------+------------+-----------+------------+--------------------+-----------------------+-------------------+-------------------+\n",
      "|ProductKey| OrderDate| StockDate|OrderNumber|CustomerKey|TerritoryKey|OrderLineItem|OrderQuantity|ProductSubcategoryKey|ProductSKU|SKUcategory|         ProductName|           ModelName|Modelcategory|  ProductDescription|ProductColor|ProductSize|ProductStyle|ProductCost|ProductPrice|AdjHistoricTotalCost|AdjHistoricTotalRevenue|TimeStamp_StockDate|TimeStamp_OrderDate|\n",
      "+----------+----------+----------+-----------+-----------+------------+-------------+-------------+---------------------+----------+-----------+--------------------+--------------------+-------------+--------------------+------------+-----------+------------+-----------+------------+--------------------+-----------------------+-------------------+-------------------+\n",
      "|       529|2017-01-01|2003-12-13|    SO61285|      23791|           1|            2|            2|                   37|   TT-R982|         TT|      Road Tire Tube|      Road Tire Tube|         Road|Conventional all-...|          NA|          0|           0|     1.4923|        3.99|              2.9846|                   7.98|2003-12-13 00:00:00|2017-01-01 00:00:00|\n",
      "|       214|2017-01-01|2003-09-24|    SO61285|      23791|           1|            3|            1|                   31| HL-U509-R|         HL|Sport-100 Helmet,...|           Sport-100|        Sport|Universal fit, we...|         Red|          0|           0|    13.0863|       34.99|             13.0863|                  34.99|2003-09-24 00:00:00|2017-01-01 00:00:00|\n",
      "|       540|2017-01-01|2003-09-04|    SO61285|      23791|           1|            1|            1|                   37|   TI-R982|         TI|        HL Road Tire|        HL Road Tire|           HL|Lightweight carbo...|          NA|          0|           0|    12.1924|        32.6|             12.1924|                   32.6|2003-09-04 00:00:00|2017-01-01 00:00:00|\n",
      "|       529|2017-01-01|2003-09-28|    SO61301|      16747|           1|            2|            2|                   37|   TT-R982|         TT|      Road Tire Tube|      Road Tire Tube|         Road|Conventional all-...|          NA|          0|           0|     1.4923|        3.99|              2.9846|                   7.98|2003-09-28 00:00:00|2017-01-01 00:00:00|\n",
      "|       377|2017-01-01|2003-10-21|    SO61301|      16747|           1|            1|            1|                    2|BK-R89B-52|         BK|  Road-250 Black, 52|            Road-250|         Road|Alluminum-alloy f...|       Black|         52|           U|  1320.6838|   2181.5625|           1320.6838|              2181.5625|2003-10-21 00:00:00|2017-01-01 00:00:00|\n",
      "|       540|2017-01-01|2003-10-23|    SO61301|      16747|           1|            3|            1|                   37|   TI-R982|         TI|        HL Road Tire|        HL Road Tire|           HL|Lightweight carbo...|          NA|          0|           0|    12.1924|        32.6|             12.1924|                   32.6|2003-10-23 00:00:00|2017-01-01 00:00:00|\n",
      "|       215|2017-01-01|2003-09-04|    SO61269|      11792|           4|            1|            1|                   31|   HL-U509|         HL|Sport-100 Helmet,...|           Sport-100|        Sport|Universal fit, we...|       Black|          0|           0|    12.0278|     33.6442|             12.0278|                33.6442|2003-09-04 00:00:00|2017-01-01 00:00:00|\n",
      "|       229|2017-01-01|2003-10-21|    SO61269|      11792|           4|            2|            1|                   21| LJ-0192-M|         LJ|Long-Sleeve Logo ...|Long-Sleeve Logo ...|         Long|Unisex long-sleev...|       Multi|          M|           U|    31.7244|     48.0673|             31.7244|                48.0673|2003-10-21 00:00:00|2017-01-01 00:00:00|\n",
      "|       528|2017-01-01|2003-10-24|    SO61286|      11530|           6|            2|            2|                   37|   TT-M928|         TT|  Mountain Tire Tube|  Mountain Tire Tube|     Mountain|  Self-sealing tube.|          NA|          0|           0|     1.8663|        4.99|              3.7326|                   9.98|2003-10-24 00:00:00|2017-01-01 00:00:00|\n",
      "|       536|2017-01-01|2003-09-27|    SO61286|      11530|           6|            1|            2|                   37|   TI-M602|         TI|    ML Mountain Tire|    ML Mountain Tire|           ML|Great traction, h...|          NA|          0|           0|    11.2163|       29.99|             22.4326|                  59.98|2003-09-27 00:00:00|2017-01-01 00:00:00|\n",
      "|       530|2017-01-01|2003-10-23|    SO61298|      18155|          10|            1|            2|                   37|   TT-T092|         TT|   Touring Tire Tube|   Touring Tire Tube|      Touring|General purpose t...|          NA|          0|           0|     1.8663|        4.99|              3.7326|                   9.98|2003-10-23 00:00:00|2017-01-01 00:00:00|\n",
      "|       214|2017-01-01|2003-12-02|    SO61298|      18155|          10|            3|            1|                   31| HL-U509-R|         HL|Sport-100 Helmet,...|           Sport-100|        Sport|Universal fit, we...|         Red|          0|           0|    13.0863|       34.99|             13.0863|                  34.99|2003-12-02 00:00:00|2017-01-01 00:00:00|\n",
      "|       223|2017-01-01|2003-12-15|    SO61298|      18155|          10|            2|            1|                   19|   CA-1098|         CA|        AWC Logo Cap|         Cycling Cap|      Cycling|Traditional style...|       Multi|          0|           U|     5.7052|      8.6442|              5.7052|                 8.6442|2003-12-15 00:00:00|2017-01-01 00:00:00|\n",
      "|       538|2017-01-01|2003-10-01|    SO61310|      13541|           8|            2|            2|                   37|   TI-R092|         TI|        LL Road Tire|        LL Road Tire|           LL|Same great treads...|          NA|          0|           0|     8.0373|       21.49|             16.0746|                  42.98|2003-10-01 00:00:00|2017-01-01 00:00:00|\n",
      "|       584|2017-01-01|2003-11-08|    SO61310|      13541|           8|            1|            1|                    2|BK-R19B-58|         BK|  Road-750 Black, 58|            Road-750|         Road|Entry level adult...|       Black|         58|           U|   343.6496|      539.99|            343.6496|                 539.99|2003-11-08 00:00:00|2017-01-01 00:00:00|\n",
      "|       485|2017-01-01|2003-12-06|    SO61270|      18259|           9|            1|            2|                   30|   FE-6654|         FE|Fender Set - Moun...|Fender Set - Moun...|       Fender|Clip-on fenders f...|          NA|          0|           0|     8.2205|       21.98|              16.441|                  43.96|2003-12-06 00:00:00|2017-01-01 00:00:00|\n",
      "|       528|2017-01-01|2003-10-31|    SO61289|      23694|           1|            1|            2|                   37|   TT-M928|         TT|  Mountain Tire Tube|  Mountain Tire Tube|     Mountain|  Self-sealing tube.|          NA|          0|           0|     1.8663|        4.99|              3.7326|                   9.98|2003-10-31 00:00:00|2017-01-01 00:00:00|\n",
      "|       536|2017-01-01|2003-11-16|    SO61289|      23694|           1|            2|            2|                   37|   TI-M602|         TI|    ML Mountain Tire|    ML Mountain Tire|           ML|Great traction, h...|          NA|          0|           0|    11.2163|       29.99|             22.4326|                  59.98|2003-11-16 00:00:00|2017-01-01 00:00:00|\n",
      "|       215|2017-01-01|2003-11-20|    SO61289|      23694|           1|            3|            1|                   31|   HL-U509|         HL|Sport-100 Helmet,...|           Sport-100|        Sport|Universal fit, we...|       Black|          0|           0|    12.0278|     33.6442|             12.0278|                33.6442|2003-11-20 00:00:00|2017-01-01 00:00:00|\n",
      "|       477|2017-01-01|2003-10-12|    SO61278|      22308|          10|            3|            2|                   28|   WB-H098|         WB|Water Bottle - 30...|        Water Bottle|        Water|AWC logo water bo...|          NA|          0|           0|     1.8663|        4.99|              3.7326|                   9.98|2003-10-12 00:00:00|2017-01-01 00:00:00|\n",
      "+----------+----------+----------+-----------+-----------+------------+-------------+-------------+---------------------+----------+-----------+--------------------+--------------------+-------------+--------------------+------------+-----------+------------+-----------+------------+--------------------+-----------------------+-------------------+-------------------+\n",
      "only showing top 20 rows\n"
     ]
    }
   ],
   "source": [
    "# df_sales.display()\n",
    "# print(df_products.count())\n",
    "# print(df_sales.count())\n",
    "# print(df_products.columns)\n",
    "# print(df_sales.columns)\n",
    "# Transform:\n",
    "#   AdjHistoricTotalCost = total cost of sold products if it were made today\n",
    "#   AdjHistoricTotalRevenue = total revenue of sold products if it were made today\n",
    "#   TimeStamp_StockDate = timestamp, just because I wanted to play around with some functions :P\n",
    "#   TimeStamp_OrderDate\n",
    "\n",
    "## Create Historically Adjusted columns\n",
    "df_sales_potential = df_sales.join(\n",
    "    new_df_products, \n",
    "    on='ProductKey', \n",
    "    how='left'\n",
    ")\n",
    "df_sales_potential = df_sales_potential.withColumn('AdjHistoricTotalCost', df_sales_potential.OrderQuantity * df_sales_potential.ProductCost)\n",
    "df_sales_potential = df_sales_potential.withColumn('AdjHistoricTotalRevenue', df_sales_potential.OrderQuantity * df_sales_potential.ProductPrice)\n",
    "\n",
    "## Create timestamp columns\n",
    "df_sales_potential = df_sales_potential.withColumn('TimeStamp_StockDate', to_timestamp('StockDate'))\n",
    "df_sales_potential = df_sales_potential.withColumn('TimeStamp_OrderDate', to_timestamp('OrderDate'))\n",
    "\n",
    "\n",
    "# Save\n",
    "write_store_parquet(df_sales_potential, 'sales')\n",
    "df_sales_potential.show()"
   ]
  },
  {
   "cell_type": "markdown",
   "metadata": {
    "application/vnd.databricks.v1+cell": {
     "cellMetadata": {},
     "inputWidgets": {},
     "nuid": "30c615d8-85d5-417d-a131-40002bc39923",
     "showTitle": false,
     "tableResultSettingsMap": {},
     "title": ""
    }
   },
   "source": [
    "###### Ad-hoc sales analysis"
   ]
  },
  {
   "cell_type": "code",
   "execution_count": 0,
   "metadata": {
    "application/vnd.databricks.v1+cell": {
     "cellMetadata": {
      "byteLimit": 2048000,
      "rowLimit": 10000
     },
     "inputWidgets": {},
     "nuid": "3a118f52-4876-49a7-abb2-2cacd8566c1b",
     "showTitle": false,
     "tableResultSettingsMap": {},
     "title": ""
    }
   },
   "outputs": [
    {
     "data": {
      "text/html": [
       "<style scoped>\n",
       "  .table-result-container {\n",
       "    max-height: 300px;\n",
       "    overflow: auto;\n",
       "  }\n",
       "  table, th, td {\n",
       "    border: 1px solid black;\n",
       "    border-collapse: collapse;\n",
       "  }\n",
       "  th, td {\n",
       "    padding: 5px;\n",
       "  }\n",
       "  th {\n",
       "    text-align: left;\n",
       "  }\n",
       "</style><div class='table-result-container'><table class='table-result'><thead style='background-color: white'><tr><th>OrderDate</th><th>count(OrderNumber)</th></tr></thead><tbody><tr><td>2015-01-01</td><td>4</td></tr><tr><td>2015-01-02</td><td>4</td></tr><tr><td>2015-01-03</td><td>8</td></tr><tr><td>2015-01-04</td><td>5</td></tr><tr><td>2015-01-05</td><td>3</td></tr><tr><td>2015-01-06</td><td>6</td></tr><tr><td>2015-01-07</td><td>4</td></tr><tr><td>2015-01-08</td><td>8</td></tr><tr><td>2015-01-09</td><td>4</td></tr><tr><td>2015-01-10</td><td>4</td></tr><tr><td>2015-01-11</td><td>9</td></tr><tr><td>2015-01-12</td><td>7</td></tr><tr><td>2015-01-13</td><td>3</td></tr><tr><td>2015-01-14</td><td>9</td></tr><tr><td>2015-01-15</td><td>7</td></tr><tr><td>2015-01-16</td><td>7</td></tr><tr><td>2015-01-17</td><td>8</td></tr><tr><td>2015-01-18</td><td>6</td></tr><tr><td>2015-01-19</td><td>6</td></tr><tr><td>2015-01-20</td><td>6</td></tr><tr><td>2015-01-21</td><td>7</td></tr><tr><td>2015-01-22</td><td>9</td></tr><tr><td>2015-01-23</td><td>3</td></tr><tr><td>2015-01-24</td><td>8</td></tr><tr><td>2015-01-25</td><td>4</td></tr><tr><td>2015-01-26</td><td>4</td></tr><tr><td>2015-01-27</td><td>5</td></tr><tr><td>2015-01-28</td><td>5</td></tr><tr><td>2015-01-29</td><td>4</td></tr><tr><td>2015-01-30</td><td>10</td></tr><tr><td>2015-01-31</td><td>7</td></tr><tr><td>2015-02-01</td><td>5</td></tr><tr><td>2015-02-02</td><td>6</td></tr><tr><td>2015-02-03</td><td>7</td></tr><tr><td>2015-02-04</td><td>7</td></tr><tr><td>2015-02-05</td><td>6</td></tr><tr><td>2015-02-06</td><td>10</td></tr><tr><td>2015-02-07</td><td>6</td></tr><tr><td>2015-02-08</td><td>4</td></tr><tr><td>2015-02-09</td><td>2</td></tr><tr><td>2015-02-10</td><td>9</td></tr><tr><td>2015-02-11</td><td>12</td></tr><tr><td>2015-02-12</td><td>3</td></tr><tr><td>2015-02-13</td><td>6</td></tr><tr><td>2015-02-14</td><td>8</td></tr><tr><td>2015-02-15</td><td>6</td></tr><tr><td>2015-02-16</td><td>3</td></tr><tr><td>2015-02-17</td><td>4</td></tr><tr><td>2015-02-18</td><td>2</td></tr><tr><td>2015-02-19</td><td>5</td></tr><tr><td>2015-02-20</td><td>5</td></tr><tr><td>2015-02-21</td><td>1</td></tr><tr><td>2015-02-22</td><td>10</td></tr><tr><td>2015-02-23</td><td>5</td></tr><tr><td>2015-02-24</td><td>9</td></tr><tr><td>2015-02-25</td><td>5</td></tr><tr><td>2015-02-26</td><td>11</td></tr><tr><td>2015-02-27</td><td>3</td></tr><tr><td>2015-02-28</td><td>5</td></tr><tr><td>2015-03-01</td><td>6</td></tr><tr><td>2015-03-02</td><td>7</td></tr><tr><td>2015-03-03</td><td>8</td></tr><tr><td>2015-03-04</td><td>8</td></tr><tr><td>2015-03-05</td><td>3</td></tr><tr><td>2015-03-06</td><td>9</td></tr><tr><td>2015-03-07</td><td>9</td></tr><tr><td>2015-03-08</td><td>4</td></tr><tr><td>2015-03-09</td><td>6</td></tr><tr><td>2015-03-10</td><td>2</td></tr><tr><td>2015-03-11</td><td>6</td></tr><tr><td>2015-03-12</td><td>5</td></tr><tr><td>2015-03-13</td><td>10</td></tr><tr><td>2015-03-14</td><td>4</td></tr><tr><td>2015-03-15</td><td>10</td></tr><tr><td>2015-03-16</td><td>5</td></tr><tr><td>2015-03-17</td><td>9</td></tr><tr><td>2015-03-18</td><td>8</td></tr><tr><td>2015-03-19</td><td>4</td></tr><tr><td>2015-03-20</td><td>9</td></tr><tr><td>2015-03-21</td><td>4</td></tr><tr><td>2015-03-22</td><td>6</td></tr><tr><td>2015-03-23</td><td>5</td></tr><tr><td>2015-03-24</td><td>12</td></tr><tr><td>2015-03-25</td><td>5</td></tr><tr><td>2015-03-26</td><td>9</td></tr><tr><td>2015-03-27</td><td>3</td></tr><tr><td>2015-03-28</td><td>8</td></tr><tr><td>2015-03-29</td><td>6</td></tr><tr><td>2015-03-30</td><td>4</td></tr><tr><td>2015-03-31</td><td>4</td></tr><tr><td>2015-04-01</td><td>5</td></tr><tr><td>2015-04-02</td><td>3</td></tr><tr><td>2015-04-03</td><td>9</td></tr><tr><td>2015-04-04</td><td>7</td></tr><tr><td>2015-04-05</td><td>4</td></tr><tr><td>2015-04-06</td><td>5</td></tr><tr><td>2015-04-07</td><td>9</td></tr><tr><td>2015-04-08</td><td>3</td></tr><tr><td>2015-04-09</td><td>5</td></tr><tr><td>2015-04-10</td><td>5</td></tr><tr><td>2015-04-11</td><td>6</td></tr><tr><td>2015-04-12</td><td>11</td></tr><tr><td>2015-04-13</td><td>4</td></tr><tr><td>2015-04-14</td><td>3</td></tr><tr><td>2015-04-15</td><td>13</td></tr><tr><td>2015-04-16</td><td>7</td></tr><tr><td>2015-04-17</td><td>9</td></tr><tr><td>2015-04-18</td><td>7</td></tr><tr><td>2015-04-19</td><td>4</td></tr><tr><td>2015-04-20</td><td>11</td></tr><tr><td>2015-04-21</td><td>5</td></tr><tr><td>2015-04-22</td><td>4</td></tr><tr><td>2015-04-23</td><td>10</td></tr><tr><td>2015-04-24</td><td>3</td></tr><tr><td>2015-04-25</td><td>8</td></tr><tr><td>2015-04-26</td><td>4</td></tr><tr><td>2015-04-27</td><td>9</td></tr><tr><td>2015-04-28</td><td>7</td></tr><tr><td>2015-04-29</td><td>11</td></tr><tr><td>2015-04-30</td><td>13</td></tr><tr><td>2015-05-01</td><td>12</td></tr><tr><td>2015-05-02</td><td>5</td></tr><tr><td>2015-05-03</td><td>4</td></tr><tr><td>2015-05-04</td><td>11</td></tr><tr><td>2015-05-05</td><td>3</td></tr><tr><td>2015-05-06</td><td>8</td></tr><tr><td>2015-05-07</td><td>5</td></tr><tr><td>2015-05-08</td><td>10</td></tr><tr><td>2015-05-09</td><td>6</td></tr><tr><td>2015-05-10</td><td>3</td></tr><tr><td>2015-05-11</td><td>4</td></tr><tr><td>2015-05-12</td><td>8</td></tr><tr><td>2015-05-13</td><td>13</td></tr><tr><td>2015-05-14</td><td>6</td></tr><tr><td>2015-05-15</td><td>7</td></tr><tr><td>2015-05-16</td><td>11</td></tr><tr><td>2015-05-17</td><td>9</td></tr><tr><td>2015-05-18</td><td>8</td></tr><tr><td>2015-05-19</td><td>6</td></tr><tr><td>2015-05-20</td><td>6</td></tr><tr><td>2015-05-21</td><td>6</td></tr><tr><td>2015-05-22</td><td>5</td></tr><tr><td>2015-05-23</td><td>7</td></tr><tr><td>2015-05-24</td><td>8</td></tr><tr><td>2015-05-25</td><td>9</td></tr><tr><td>2015-05-26</td><td>5</td></tr><tr><td>2015-05-27</td><td>5</td></tr><tr><td>2015-05-28</td><td>5</td></tr><tr><td>2015-05-29</td><td>1</td></tr><tr><td>2015-05-30</td><td>7</td></tr><tr><td>2015-05-31</td><td>3</td></tr><tr><td>2015-06-01</td><td>4</td></tr><tr><td>2015-06-02</td><td>12</td></tr><tr><td>2015-06-03</td><td>3</td></tr><tr><td>2015-06-04</td><td>6</td></tr><tr><td>2015-06-05</td><td>6</td></tr><tr><td>2015-06-06</td><td>7</td></tr><tr><td>2015-06-07</td><td>8</td></tr><tr><td>2015-06-08</td><td>8</td></tr><tr><td>2015-06-09</td><td>5</td></tr><tr><td>2015-06-10</td><td>8</td></tr><tr><td>2015-06-11</td><td>5</td></tr><tr><td>2015-06-12</td><td>12</td></tr><tr><td>2015-06-13</td><td>4</td></tr><tr><td>2015-06-14</td><td>4</td></tr><tr><td>2015-06-15</td><td>6</td></tr><tr><td>2015-06-16</td><td>2</td></tr><tr><td>2015-06-17</td><td>6</td></tr><tr><td>2015-06-18</td><td>11</td></tr><tr><td>2015-06-19</td><td>13</td></tr><tr><td>2015-06-20</td><td>7</td></tr><tr><td>2015-06-21</td><td>9</td></tr><tr><td>2015-06-22</td><td>5</td></tr><tr><td>2015-06-23</td><td>15</td></tr><tr><td>2015-06-24</td><td>7</td></tr><tr><td>2015-06-25</td><td>4</td></tr><tr><td>2015-06-26</td><td>7</td></tr><tr><td>2015-06-27</td><td>9</td></tr><tr><td>2015-06-28</td><td>5</td></tr><tr><td>2015-06-29</td><td>8</td></tr><tr><td>2015-06-30</td><td>6</td></tr><tr><td>2015-07-01</td><td>8</td></tr><tr><td>2015-07-02</td><td>3</td></tr><tr><td>2015-07-03</td><td>13</td></tr><tr><td>2015-07-04</td><td>9</td></tr><tr><td>2015-07-05</td><td>10</td></tr><tr><td>2015-07-06</td><td>10</td></tr><tr><td>2015-07-07</td><td>9</td></tr><tr><td>2015-07-08</td><td>6</td></tr><tr><td>2015-07-09</td><td>5</td></tr><tr><td>2015-07-10</td><td>7</td></tr><tr><td>2015-07-11</td><td>12</td></tr><tr><td>2015-07-12</td><td>7</td></tr><tr><td>2015-07-13</td><td>12</td></tr><tr><td>2015-07-14</td><td>9</td></tr><tr><td>2015-07-15</td><td>4</td></tr><tr><td>2015-07-16</td><td>6</td></tr><tr><td>2015-07-17</td><td>11</td></tr><tr><td>2015-07-18</td><td>7</td></tr><tr><td>2015-07-19</td><td>7</td></tr><tr><td>2015-07-20</td><td>9</td></tr><tr><td>2015-07-21</td><td>10</td></tr><tr><td>2015-07-22</td><td>7</td></tr><tr><td>2015-07-23</td><td>7</td></tr><tr><td>2015-07-24</td><td>5</td></tr><tr><td>2015-07-25</td><td>9</td></tr><tr><td>2015-07-26</td><td>5</td></tr><tr><td>2015-07-27</td><td>10</td></tr><tr><td>2015-07-28</td><td>5</td></tr><tr><td>2015-07-29</td><td>6</td></tr><tr><td>2015-07-30</td><td>10</td></tr><tr><td>2015-07-31</td><td>9</td></tr><tr><td>2015-08-01</td><td>9</td></tr><tr><td>2015-08-02</td><td>8</td></tr><tr><td>2015-08-03</td><td>5</td></tr><tr><td>2015-08-04</td><td>8</td></tr><tr><td>2015-08-05</td><td>7</td></tr><tr><td>2015-08-06</td><td>12</td></tr><tr><td>2015-08-07</td><td>11</td></tr><tr><td>2015-08-08</td><td>8</td></tr><tr><td>2015-08-09</td><td>8</td></tr><tr><td>2015-08-10</td><td>4</td></tr><tr><td>2015-08-11</td><td>5</td></tr><tr><td>2015-08-12</td><td>9</td></tr><tr><td>2015-08-13</td><td>12</td></tr><tr><td>2015-08-14</td><td>10</td></tr><tr><td>2015-08-15</td><td>12</td></tr><tr><td>2015-08-16</td><td>5</td></tr><tr><td>2015-08-17</td><td>10</td></tr><tr><td>2015-08-18</td><td>8</td></tr><tr><td>2015-08-19</td><td>11</td></tr><tr><td>2015-08-20</td><td>12</td></tr><tr><td>2015-08-21</td><td>10</td></tr><tr><td>2015-08-22</td><td>10</td></tr><tr><td>2015-08-23</td><td>5</td></tr><tr><td>2015-08-24</td><td>10</td></tr><tr><td>2015-08-25</td><td>11</td></tr><tr><td>2015-08-26</td><td>13</td></tr><tr><td>2015-08-27</td><td>11</td></tr><tr><td>2015-08-28</td><td>8</td></tr><tr><td>2015-08-29</td><td>6</td></tr><tr><td>2015-08-30</td><td>8</td></tr><tr><td>2015-08-31</td><td>12</td></tr><tr><td>2015-09-01</td><td>2</td></tr><tr><td>2015-09-02</td><td>7</td></tr><tr><td>2015-09-03</td><td>8</td></tr><tr><td>2015-09-04</td><td>6</td></tr><tr><td>2015-09-05</td><td>3</td></tr><tr><td>2015-09-06</td><td>4</td></tr><tr><td>2015-09-07</td><td>2</td></tr><tr><td>2015-09-08</td><td>9</td></tr><tr><td>2015-09-09</td><td>9</td></tr><tr><td>2015-09-10</td><td>9</td></tr><tr><td>2015-09-11</td><td>8</td></tr><tr><td>2015-09-12</td><td>7</td></tr><tr><td>2015-09-13</td><td>11</td></tr><tr><td>2015-09-14</td><td>9</td></tr><tr><td>2015-09-15</td><td>4</td></tr><tr><td>2015-09-16</td><td>5</td></tr><tr><td>2015-09-17</td><td>5</td></tr><tr><td>2015-09-18</td><td>9</td></tr><tr><td>2015-09-19</td><td>9</td></tr><tr><td>2015-09-20</td><td>7</td></tr><tr><td>2015-09-21</td><td>5</td></tr><tr><td>2015-09-22</td><td>5</td></tr><tr><td>2015-09-23</td><td>7</td></tr><tr><td>2015-09-24</td><td>9</td></tr><tr><td>2015-09-25</td><td>6</td></tr><tr><td>2015-09-26</td><td>10</td></tr><tr><td>2015-09-27</td><td>3</td></tr><tr><td>2015-09-28</td><td>2</td></tr><tr><td>2015-09-29</td><td>7</td></tr><tr><td>2015-09-30</td><td>9</td></tr><tr><td>2015-10-01</td><td>8</td></tr><tr><td>2015-10-02</td><td>8</td></tr><tr><td>2015-10-03</td><td>7</td></tr><tr><td>2015-10-04</td><td>6</td></tr><tr><td>2015-10-05</td><td>3</td></tr><tr><td>2015-10-06</td><td>7</td></tr><tr><td>2015-10-07</td><td>6</td></tr><tr><td>2015-10-08</td><td>7</td></tr><tr><td>2015-10-09</td><td>3</td></tr><tr><td>2015-10-10</td><td>4</td></tr><tr><td>2015-10-11</td><td>7</td></tr><tr><td>2015-10-12</td><td>11</td></tr><tr><td>2015-10-13</td><td>13</td></tr><tr><td>2015-10-14</td><td>6</td></tr><tr><td>2015-10-15</td><td>6</td></tr><tr><td>2015-10-16</td><td>9</td></tr><tr><td>2015-10-17</td><td>6</td></tr><tr><td>2015-10-18</td><td>7</td></tr><tr><td>2015-10-19</td><td>10</td></tr><tr><td>2015-10-20</td><td>9</td></tr><tr><td>2015-10-21</td><td>9</td></tr><tr><td>2015-10-22</td><td>7</td></tr><tr><td>2015-10-23</td><td>7</td></tr><tr><td>2015-10-24</td><td>9</td></tr><tr><td>2015-10-25</td><td>7</td></tr><tr><td>2015-10-26</td><td>9</td></tr><tr><td>2015-10-27</td><td>3</td></tr><tr><td>2015-10-28</td><td>6</td></tr><tr><td>2015-10-29</td><td>6</td></tr><tr><td>2015-10-30</td><td>12</td></tr><tr><td>2015-10-31</td><td>5</td></tr><tr><td>2015-11-01</td><td>6</td></tr><tr><td>2015-11-02</td><td>4</td></tr><tr><td>2015-11-03</td><td>6</td></tr><tr><td>2015-11-04</td><td>1</td></tr><tr><td>2015-11-05</td><td>6</td></tr><tr><td>2015-11-06</td><td>8</td></tr><tr><td>2015-11-07</td><td>5</td></tr><tr><td>2015-11-08</td><td>7</td></tr><tr><td>2015-11-09</td><td>4</td></tr><tr><td>2015-11-10</td><td>7</td></tr><tr><td>2015-11-11</td><td>11</td></tr><tr><td>2015-11-12</td><td>6</td></tr><tr><td>2015-11-13</td><td>4</td></tr><tr><td>2015-11-14</td><td>5</td></tr><tr><td>2015-11-15</td><td>2</td></tr><tr><td>2015-11-16</td><td>8</td></tr><tr><td>2015-11-17</td><td>6</td></tr><tr><td>2015-11-18</td><td>7</td></tr><tr><td>2015-11-19</td><td>4</td></tr><tr><td>2015-11-20</td><td>9</td></tr><tr><td>2015-11-21</td><td>7</td></tr><tr><td>2015-11-22</td><td>4</td></tr><tr><td>2015-11-23</td><td>5</td></tr><tr><td>2015-11-24</td><td>10</td></tr><tr><td>2015-11-25</td><td>8</td></tr><tr><td>2015-11-26</td><td>6</td></tr><tr><td>2015-11-27</td><td>14</td></tr><tr><td>2015-11-28</td><td>6</td></tr><tr><td>2015-11-29</td><td>6</td></tr><tr><td>2015-11-30</td><td>9</td></tr><tr><td>2015-12-01</td><td>11</td></tr><tr><td>2015-12-02</td><td>9</td></tr><tr><td>2015-12-03</td><td>16</td></tr><tr><td>2015-12-04</td><td>3</td></tr><tr><td>2015-12-05</td><td>13</td></tr><tr><td>2015-12-06</td><td>5</td></tr><tr><td>2015-12-07</td><td>17</td></tr><tr><td>2015-12-08</td><td>11</td></tr><tr><td>2015-12-09</td><td>7</td></tr><tr><td>2015-12-10</td><td>9</td></tr><tr><td>2015-12-11</td><td>13</td></tr><tr><td>2015-12-12</td><td>17</td></tr><tr><td>2015-12-13</td><td>12</td></tr><tr><td>2015-12-14</td><td>16</td></tr><tr><td>2015-12-15</td><td>5</td></tr><tr><td>2015-12-16</td><td>11</td></tr><tr><td>2015-12-17</td><td>11</td></tr><tr><td>2015-12-18</td><td>10</td></tr><tr><td>2015-12-19</td><td>14</td></tr><tr><td>2015-12-20</td><td>14</td></tr><tr><td>2015-12-21</td><td>3</td></tr><tr><td>2015-12-22</td><td>12</td></tr><tr><td>2015-12-23</td><td>12</td></tr><tr><td>2015-12-24</td><td>12</td></tr><tr><td>2015-12-25</td><td>8</td></tr><tr><td>2015-12-26</td><td>8</td></tr><tr><td>2015-12-27</td><td>9</td></tr><tr><td>2015-12-28</td><td>10</td></tr><tr><td>2015-12-29</td><td>14</td></tr><tr><td>2015-12-30</td><td>7</td></tr><tr><td>2015-12-31</td><td>7</td></tr><tr><td>2016-01-01</td><td>8</td></tr><tr><td>2016-01-02</td><td>12</td></tr><tr><td>2016-01-03</td><td>7</td></tr><tr><td>2016-01-04</td><td>8</td></tr><tr><td>2016-01-05</td><td>7</td></tr><tr><td>2016-01-06</td><td>2</td></tr><tr><td>2016-01-07</td><td>9</td></tr><tr><td>2016-01-08</td><td>10</td></tr><tr><td>2016-01-09</td><td>9</td></tr><tr><td>2016-01-10</td><td>10</td></tr><tr><td>2016-01-11</td><td>7</td></tr><tr><td>2016-01-12</td><td>7</td></tr><tr><td>2016-01-13</td><td>12</td></tr><tr><td>2016-01-14</td><td>6</td></tr><tr><td>2016-01-15</td><td>10</td></tr><tr><td>2016-01-16</td><td>11</td></tr><tr><td>2016-01-17</td><td>7</td></tr><tr><td>2016-01-18</td><td>7</td></tr><tr><td>2016-01-19</td><td>5</td></tr><tr><td>2016-01-20</td><td>7</td></tr><tr><td>2016-01-21</td><td>7</td></tr><tr><td>2016-01-22</td><td>10</td></tr><tr><td>2016-01-23</td><td>14</td></tr><tr><td>2016-01-24</td><td>7</td></tr><tr><td>2016-01-25</td><td>4</td></tr><tr><td>2016-01-26</td><td>9</td></tr><tr><td>2016-01-27</td><td>3</td></tr><tr><td>2016-01-28</td><td>5</td></tr><tr><td>2016-01-29</td><td>8</td></tr><tr><td>2016-01-30</td><td>6</td></tr><tr><td>2016-01-31</td><td>8</td></tr><tr><td>2016-02-01</td><td>10</td></tr><tr><td>2016-02-02</td><td>10</td></tr><tr><td>2016-02-03</td><td>9</td></tr><tr><td>2016-02-04</td><td>17</td></tr><tr><td>2016-02-05</td><td>8</td></tr><tr><td>2016-02-06</td><td>14</td></tr><tr><td>2016-02-07</td><td>8</td></tr><tr><td>2016-02-08</td><td>11</td></tr><tr><td>2016-02-09</td><td>10</td></tr><tr><td>2016-02-10</td><td>5</td></tr><tr><td>2016-02-11</td><td>4</td></tr><tr><td>2016-02-12</td><td>10</td></tr><tr><td>2016-02-13</td><td>10</td></tr><tr><td>2016-02-14</td><td>10</td></tr><tr><td>2016-02-15</td><td>11</td></tr><tr><td>2016-02-16</td><td>4</td></tr><tr><td>2016-02-17</td><td>12</td></tr><tr><td>2016-02-18</td><td>13</td></tr><tr><td>2016-02-19</td><td>10</td></tr><tr><td>2016-02-20</td><td>10</td></tr><tr><td>2016-02-21</td><td>13</td></tr><tr><td>2016-02-22</td><td>11</td></tr><tr><td>2016-02-23</td><td>3</td></tr><tr><td>2016-02-24</td><td>11</td></tr><tr><td>2016-02-25</td><td>15</td></tr><tr><td>2016-02-26</td><td>7</td></tr><tr><td>2016-02-27</td><td>3</td></tr><tr><td>2016-02-28</td><td>8</td></tr><tr><td>2016-03-01</td><td>8</td></tr><tr><td>2016-03-02</td><td>10</td></tr><tr><td>2016-03-03</td><td>6</td></tr><tr><td>2016-03-04</td><td>6</td></tr><tr><td>2016-03-05</td><td>17</td></tr><tr><td>2016-03-06</td><td>6</td></tr><tr><td>2016-03-07</td><td>9</td></tr><tr><td>2016-03-08</td><td>14</td></tr><tr><td>2016-03-09</td><td>5</td></tr><tr><td>2016-03-10</td><td>5</td></tr><tr><td>2016-03-11</td><td>8</td></tr><tr><td>2016-03-12</td><td>19</td></tr><tr><td>2016-03-13</td><td>6</td></tr><tr><td>2016-03-14</td><td>9</td></tr><tr><td>2016-03-15</td><td>5</td></tr><tr><td>2016-03-16</td><td>7</td></tr><tr><td>2016-03-17</td><td>8</td></tr><tr><td>2016-03-18</td><td>15</td></tr><tr><td>2016-03-19</td><td>11</td></tr><tr><td>2016-03-20</td><td>11</td></tr><tr><td>2016-03-21</td><td>5</td></tr><tr><td>2016-03-22</td><td>7</td></tr><tr><td>2016-03-23</td><td>6</td></tr><tr><td>2016-03-24</td><td>5</td></tr><tr><td>2016-03-25</td><td>4</td></tr><tr><td>2016-03-26</td><td>8</td></tr><tr><td>2016-03-27</td><td>3</td></tr><tr><td>2016-03-28</td><td>13</td></tr><tr><td>2016-03-29</td><td>10</td></tr><tr><td>2016-03-30</td><td>10</td></tr><tr><td>2016-03-31</td><td>10</td></tr><tr><td>2016-04-01</td><td>11</td></tr><tr><td>2016-04-02</td><td>13</td></tr><tr><td>2016-04-03</td><td>5</td></tr><tr><td>2016-04-04</td><td>12</td></tr><tr><td>2016-04-05</td><td>10</td></tr><tr><td>2016-04-06</td><td>5</td></tr><tr><td>2016-04-07</td><td>11</td></tr><tr><td>2016-04-08</td><td>13</td></tr><tr><td>2016-04-09</td><td>10</td></tr><tr><td>2016-04-10</td><td>6</td></tr><tr><td>2016-04-11</td><td>12</td></tr><tr><td>2016-04-12</td><td>7</td></tr><tr><td>2016-04-13</td><td>18</td></tr><tr><td>2016-04-14</td><td>7</td></tr><tr><td>2016-04-15</td><td>9</td></tr><tr><td>2016-04-16</td><td>7</td></tr><tr><td>2016-04-17</td><td>16</td></tr><tr><td>2016-04-18</td><td>11</td></tr><tr><td>2016-04-19</td><td>7</td></tr><tr><td>2016-04-20</td><td>9</td></tr><tr><td>2016-04-21</td><td>5</td></tr><tr><td>2016-04-22</td><td>6</td></tr><tr><td>2016-04-23</td><td>6</td></tr><tr><td>2016-04-24</td><td>14</td></tr><tr><td>2016-04-25</td><td>15</td></tr><tr><td>2016-04-26</td><td>9</td></tr><tr><td>2016-04-27</td><td>10</td></tr><tr><td>2016-04-28</td><td>8</td></tr><tr><td>2016-04-29</td><td>7</td></tr><tr><td>2016-04-30</td><td>11</td></tr><tr><td>2016-05-01</td><td>13</td></tr><tr><td>2016-05-02</td><td>11</td></tr><tr><td>2016-05-03</td><td>15</td></tr><tr><td>2016-05-04</td><td>9</td></tr><tr><td>2016-05-05</td><td>14</td></tr><tr><td>2016-05-06</td><td>15</td></tr><tr><td>2016-05-07</td><td>9</td></tr><tr><td>2016-05-08</td><td>15</td></tr><tr><td>2016-05-09</td><td>8</td></tr><tr><td>2016-05-10</td><td>6</td></tr><tr><td>2016-05-11</td><td>11</td></tr><tr><td>2016-05-12</td><td>13</td></tr><tr><td>2016-05-13</td><td>9</td></tr><tr><td>2016-05-14</td><td>12</td></tr><tr><td>2016-05-15</td><td>8</td></tr><tr><td>2016-05-16</td><td>8</td></tr><tr><td>2016-05-17</td><td>8</td></tr><tr><td>2016-05-18</td><td>2</td></tr><tr><td>2016-05-19</td><td>7</td></tr><tr><td>2016-05-20</td><td>9</td></tr><tr><td>2016-05-21</td><td>10</td></tr><tr><td>2016-05-22</td><td>12</td></tr><tr><td>2016-05-23</td><td>12</td></tr><tr><td>2016-05-24</td><td>15</td></tr><tr><td>2016-05-25</td><td>7</td></tr><tr><td>2016-05-26</td><td>10</td></tr><tr><td>2016-05-27</td><td>10</td></tr><tr><td>2016-05-28</td><td>12</td></tr><tr><td>2016-05-29</td><td>8</td></tr><tr><td>2016-05-30</td><td>15</td></tr><tr><td>2016-05-31</td><td>16</td></tr><tr><td>2016-06-01</td><td>15</td></tr><tr><td>2016-06-02</td><td>13</td></tr><tr><td>2016-06-03</td><td>8</td></tr><tr><td>2016-06-04</td><td>8</td></tr><tr><td>2016-06-05</td><td>7</td></tr><tr><td>2016-06-06</td><td>11</td></tr><tr><td>2016-06-07</td><td>11</td></tr><tr><td>2016-06-08</td><td>17</td></tr><tr><td>2016-06-09</td><td>6</td></tr><tr><td>2016-06-10</td><td>14</td></tr><tr><td>2016-06-11</td><td>10</td></tr><tr><td>2016-06-12</td><td>11</td></tr><tr><td>2016-06-13</td><td>9</td></tr><tr><td>2016-06-14</td><td>11</td></tr><tr><td>2016-06-15</td><td>14</td></tr><tr><td>2016-06-16</td><td>7</td></tr><tr><td>2016-06-17</td><td>9</td></tr><tr><td>2016-06-18</td><td>8</td></tr><tr><td>2016-06-19</td><td>13</td></tr><tr><td>2016-06-20</td><td>10</td></tr><tr><td>2016-06-21</td><td>15</td></tr><tr><td>2016-06-22</td><td>6</td></tr><tr><td>2016-06-23</td><td>9</td></tr><tr><td>2016-06-24</td><td>10</td></tr><tr><td>2016-06-25</td><td>9</td></tr><tr><td>2016-06-26</td><td>8</td></tr><tr><td>2016-06-27</td><td>13</td></tr><tr><td>2016-06-28</td><td>13</td></tr><tr><td>2016-06-29</td><td>7</td></tr><tr><td>2016-06-30</td><td>10</td></tr><tr><td>2016-07-01</td><td>35</td></tr><tr><td>2016-07-02</td><td>37</td></tr><tr><td>2016-07-03</td><td>64</td></tr><tr><td>2016-07-04</td><td>58</td></tr><tr><td>2016-07-05</td><td>39</td></tr><tr><td>2016-07-06</td><td>24</td></tr><tr><td>2016-07-07</td><td>45</td></tr><tr><td>2016-07-08</td><td>38</td></tr><tr><td>2016-07-09</td><td>58</td></tr><tr><td>2016-07-10</td><td>34</td></tr><tr><td>2016-07-11</td><td>69</td></tr><tr><td>2016-07-12</td><td>47</td></tr><tr><td>2016-07-13</td><td>44</td></tr><tr><td>2016-07-14</td><td>39</td></tr><tr><td>2016-07-15</td><td>59</td></tr><tr><td>2016-07-16</td><td>40</td></tr><tr><td>2016-07-17</td><td>39</td></tr><tr><td>2016-07-18</td><td>21</td></tr><tr><td>2016-07-19</td><td>37</td></tr><tr><td>2016-07-20</td><td>72</td></tr><tr><td>2016-07-21</td><td>21</td></tr><tr><td>2016-07-22</td><td>45</td></tr><tr><td>2016-07-23</td><td>34</td></tr><tr><td>2016-07-24</td><td>85</td></tr><tr><td>2016-07-25</td><td>39</td></tr><tr><td>2016-07-26</td><td>44</td></tr><tr><td>2016-07-27</td><td>40</td></tr><tr><td>2016-07-28</td><td>39</td></tr><tr><td>2016-07-29</td><td>64</td></tr><tr><td>2016-07-30</td><td>31</td></tr><tr><td>2016-07-31</td><td>46</td></tr><tr><td>2016-08-01</td><td>105</td></tr><tr><td>2016-08-02</td><td>104</td></tr><tr><td>2016-08-03</td><td>126</td></tr><tr><td>2016-08-04</td><td>99</td></tr><tr><td>2016-08-05</td><td>90</td></tr><tr><td>2016-08-06</td><td>106</td></tr><tr><td>2016-08-07</td><td>140</td></tr><tr><td>2016-08-08</td><td>180</td></tr><tr><td>2016-08-09</td><td>124</td></tr><tr><td>2016-08-10</td><td>88</td></tr><tr><td>2016-08-11</td><td>91</td></tr><tr><td>2016-08-12</td><td>148</td></tr><tr><td>2016-08-13</td><td>129</td></tr><tr><td>2016-08-14</td><td>128</td></tr><tr><td>2016-08-15</td><td>93</td></tr><tr><td>2016-08-16</td><td>132</td></tr><tr><td>2016-08-17</td><td>124</td></tr><tr><td>2016-08-18</td><td>137</td></tr><tr><td>2016-08-19</td><td>149</td></tr><tr><td>2016-08-20</td><td>99</td></tr><tr><td>2016-08-21</td><td>115</td></tr><tr><td>2016-08-22</td><td>62</td></tr><tr><td>2016-08-23</td><td>89</td></tr><tr><td>2016-08-24</td><td>166</td></tr><tr><td>2016-08-25</td><td>152</td></tr><tr><td>2016-08-26</td><td>122</td></tr><tr><td>2016-08-27</td><td>112</td></tr><tr><td>2016-08-28</td><td>122</td></tr><tr><td>2016-08-29</td><td>147</td></tr><tr><td>2016-08-30</td><td>131</td></tr><tr><td>2016-08-31</td><td>126</td></tr><tr><td>2016-09-01</td><td>83</td></tr><tr><td>2016-09-02</td><td>140</td></tr><tr><td>2016-09-03</td><td>115</td></tr><tr><td>2016-09-04</td><td>136</td></tr><tr><td>2016-09-05</td><td>112</td></tr><tr><td>2016-09-06</td><td>106</td></tr><tr><td>2016-09-07</td><td>137</td></tr><tr><td>2016-09-08</td><td>139</td></tr><tr><td>2016-09-09</td><td>153</td></tr><tr><td>2016-09-10</td><td>118</td></tr><tr><td>2016-09-11</td><td>87</td></tr><tr><td>2016-09-12</td><td>162</td></tr><tr><td>2016-09-13</td><td>168</td></tr><tr><td>2016-09-14</td><td>129</td></tr><tr><td>2016-09-15</td><td>128</td></tr><tr><td>2016-09-16</td><td>102</td></tr><tr><td>2016-09-17</td><td>129</td></tr><tr><td>2016-09-18</td><td>148</td></tr><tr><td>2016-09-19</td><td>170</td></tr><tr><td>2016-09-20</td><td>136</td></tr><tr><td>2016-09-21</td><td>133</td></tr><tr><td>2016-09-22</td><td>126</td></tr><tr><td>2016-09-23</td><td>149</td></tr><tr><td>2016-09-24</td><td>107</td></tr><tr><td>2016-09-25</td><td>100</td></tr><tr><td>2016-09-26</td><td>114</td></tr><tr><td>2016-09-27</td><td>145</td></tr><tr><td>2016-09-28</td><td>121</td></tr><tr><td>2016-09-29</td><td>81</td></tr><tr><td>2016-09-30</td><td>126</td></tr><tr><td>2016-10-01</td><td>127</td></tr><tr><td>2016-10-02</td><td>157</td></tr><tr><td>2016-10-03</td><td>130</td></tr><tr><td>2016-10-04</td><td>112</td></tr><tr><td>2016-10-05</td><td>148</td></tr><tr><td>2016-10-06</td><td>185</td></tr><tr><td>2016-10-07</td><td>118</td></tr><tr><td>2016-10-08</td><td>180</td></tr><tr><td>2016-10-09</td><td>142</td></tr><tr><td>2016-10-10</td><td>129</td></tr><tr><td>2016-10-11</td><td>117</td></tr><tr><td>2016-10-12</td><td>121</td></tr><tr><td>2016-10-13</td><td>118</td></tr><tr><td>2016-10-14</td><td>143</td></tr><tr><td>2016-10-15</td><td>158</td></tr><tr><td>2016-10-16</td><td>89</td></tr><tr><td>2016-10-17</td><td>120</td></tr><tr><td>2016-10-18</td><td>140</td></tr><tr><td>2016-10-19</td><td>112</td></tr><tr><td>2016-10-20</td><td>126</td></tr><tr><td>2016-10-21</td><td>125</td></tr><tr><td>2016-10-22</td><td>161</td></tr><tr><td>2016-10-23</td><td>142</td></tr><tr><td>2016-10-24</td><td>101</td></tr><tr><td>2016-10-25</td><td>124</td></tr><tr><td>2016-10-26</td><td>154</td></tr><tr><td>2016-10-27</td><td>102</td></tr><tr><td>2016-10-28</td><td>119</td></tr><tr><td>2016-10-29</td><td>109</td></tr><tr><td>2016-10-30</td><td>121</td></tr><tr><td>2016-10-31</td><td>118</td></tr><tr><td>2016-11-01</td><td>119</td></tr><tr><td>2016-11-02</td><td>126</td></tr><tr><td>2016-11-03</td><td>172</td></tr><tr><td>2016-11-04</td><td>136</td></tr><tr><td>2016-11-05</td><td>119</td></tr><tr><td>2016-11-06</td><td>125</td></tr><tr><td>2016-11-07</td><td>153</td></tr><tr><td>2016-11-08</td><td>101</td></tr><tr><td>2016-11-09</td><td>125</td></tr><tr><td>2016-11-10</td><td>140</td></tr><tr><td>2016-11-11</td><td>85</td></tr><tr><td>2016-11-12</td><td>132</td></tr><tr><td>2016-11-13</td><td>136</td></tr><tr><td>2016-11-14</td><td>152</td></tr><tr><td>2016-11-15</td><td>147</td></tr><tr><td>2016-11-16</td><td>117</td></tr><tr><td>2016-11-17</td><td>139</td></tr><tr><td>2016-11-18</td><td>161</td></tr><tr><td>2016-11-19</td><td>148</td></tr><tr><td>2016-11-20</td><td>87</td></tr><tr><td>2016-11-21</td><td>147</td></tr><tr><td>2016-11-22</td><td>170</td></tr><tr><td>2016-11-23</td><td>116</td></tr><tr><td>2016-11-24</td><td>182</td></tr><tr><td>2016-11-25</td><td>104</td></tr><tr><td>2016-11-26</td><td>136</td></tr><tr><td>2016-11-27</td><td>152</td></tr><tr><td>2016-11-28</td><td>153</td></tr><tr><td>2016-11-29</td><td>160</td></tr><tr><td>2016-11-30</td><td>152</td></tr><tr><td>2016-12-01</td><td>167</td></tr><tr><td>2016-12-02</td><td>172</td></tr><tr><td>2016-12-03</td><td>178</td></tr><tr><td>2016-12-04</td><td>166</td></tr><tr><td>2016-12-05</td><td>167</td></tr><tr><td>2016-12-06</td><td>193</td></tr><tr><td>2016-12-07</td><td>237</td></tr><tr><td>2016-12-08</td><td>162</td></tr><tr><td>2016-12-09</td><td>148</td></tr><tr><td>2016-12-10</td><td>122</td></tr><tr><td>2016-12-11</td><td>178</td></tr><tr><td>2016-12-12</td><td>188</td></tr><tr><td>2016-12-13</td><td>189</td></tr><tr><td>2016-12-14</td><td>150</td></tr><tr><td>2016-12-15</td><td>194</td></tr><tr><td>2016-12-16</td><td>130</td></tr><tr><td>2016-12-17</td><td>165</td></tr><tr><td>2016-12-18</td><td>182</td></tr><tr><td>2016-12-19</td><td>169</td></tr><tr><td>2016-12-20</td><td>156</td></tr><tr><td>2016-12-21</td><td>157</td></tr><tr><td>2016-12-22</td><td>103</td></tr><tr><td>2016-12-23</td><td>159</td></tr><tr><td>2016-12-24</td><td>170</td></tr><tr><td>2016-12-25</td><td>163</td></tr><tr><td>2016-12-26</td><td>175</td></tr><tr><td>2016-12-27</td><td>131</td></tr><tr><td>2016-12-28</td><td>161</td></tr><tr><td>2016-12-29</td><td>181</td></tr><tr><td>2016-12-30</td><td>158</td></tr><tr><td>2016-12-31</td><td>195</td></tr><tr><td>2017-01-01</td><td>98</td></tr><tr><td>2017-01-02</td><td>135</td></tr><tr><td>2017-01-03</td><td>138</td></tr><tr><td>2017-01-04</td><td>138</td></tr><tr><td>2017-01-05</td><td>141</td></tr><tr><td>2017-01-06</td><td>151</td></tr><tr><td>2017-01-07</td><td>152</td></tr><tr><td>2017-01-08</td><td>168</td></tr><tr><td>2017-01-09</td><td>117</td></tr><tr><td>2017-01-10</td><td>192</td></tr><tr><td>2017-01-11</td><td>162</td></tr><tr><td>2017-01-12</td><td>121</td></tr><tr><td>2017-01-13</td><td>123</td></tr><tr><td>2017-01-14</td><td>143</td></tr><tr><td>2017-01-15</td><td>156</td></tr><tr><td>2017-01-16</td><td>171</td></tr><tr><td>2017-01-17</td><td>123</td></tr><tr><td>2017-01-18</td><td>159</td></tr><tr><td>2017-01-19</td><td>131</td></tr><tr><td>2017-01-20</td><td>195</td></tr><tr><td>2017-01-21</td><td>131</td></tr><tr><td>2017-01-22</td><td>126</td></tr><tr><td>2017-01-23</td><td>113</td></tr><tr><td>2017-01-24</td><td>173</td></tr><tr><td>2017-01-25</td><td>121</td></tr><tr><td>2017-01-26</td><td>156</td></tr><tr><td>2017-01-27</td><td>142</td></tr><tr><td>2017-01-28</td><td>181</td></tr><tr><td>2017-01-29</td><td>142</td></tr><tr><td>2017-01-30</td><td>145</td></tr><tr><td>2017-01-31</td><td>148</td></tr><tr><td>2017-02-01</td><td>179</td></tr><tr><td>2017-02-02</td><td>148</td></tr><tr><td>2017-02-03</td><td>189</td></tr><tr><td>2017-02-04</td><td>128</td></tr><tr><td>2017-02-05</td><td>172</td></tr><tr><td>2017-02-06</td><td>156</td></tr><tr><td>2017-02-07</td><td>161</td></tr><tr><td>2017-02-08</td><td>164</td></tr><tr><td>2017-02-09</td><td>138</td></tr><tr><td>2017-02-10</td><td>168</td></tr><tr><td>2017-02-11</td><td>124</td></tr><tr><td>2017-02-12</td><td>163</td></tr><tr><td>2017-02-13</td><td>150</td></tr><tr><td>2017-02-14</td><td>135</td></tr><tr><td>2017-02-15</td><td>155</td></tr><tr><td>2017-02-16</td><td>124</td></tr><tr><td>2017-02-17</td><td>194</td></tr><tr><td>2017-02-18</td><td>195</td></tr><tr><td>2017-02-19</td><td>165</td></tr><tr><td>2017-02-20</td><td>237</td></tr><tr><td>2017-02-21</td><td>167</td></tr><tr><td>2017-02-22</td><td>125</td></tr><tr><td>2017-02-23</td><td>137</td></tr><tr><td>2017-02-24</td><td>152</td></tr><tr><td>2017-02-25</td><td>103</td></tr><tr><td>2017-02-26</td><td>119</td></tr><tr><td>2017-02-27</td><td>174</td></tr><tr><td>2017-02-28</td><td>162</td></tr><tr><td>2017-03-01</td><td>306</td></tr><tr><td>2017-03-02</td><td>118</td></tr><tr><td>2017-03-03</td><td>129</td></tr><tr><td>2017-03-04</td><td>144</td></tr><tr><td>2017-03-05</td><td>146</td></tr><tr><td>2017-03-06</td><td>137</td></tr><tr><td>2017-03-07</td><td>159</td></tr><tr><td>2017-03-08</td><td>136</td></tr><tr><td>2017-03-09</td><td>179</td></tr><tr><td>2017-03-10</td><td>159</td></tr><tr><td>2017-03-11</td><td>158</td></tr><tr><td>2017-03-12</td><td>167</td></tr><tr><td>2017-03-13</td><td>191</td></tr><tr><td>2017-03-14</td><td>137</td></tr><tr><td>2017-03-15</td><td>141</td></tr><tr><td>2017-03-16</td><td>107</td></tr><tr><td>2017-03-17</td><td>138</td></tr><tr><td>2017-03-18</td><td>142</td></tr><tr><td>2017-03-19</td><td>152</td></tr><tr><td>2017-03-20</td><td>163</td></tr><tr><td>2017-03-21</td><td>177</td></tr><tr><td>2017-03-22</td><td>141</td></tr><tr><td>2017-03-23</td><td>155</td></tr><tr><td>2017-03-24</td><td>158</td></tr><tr><td>2017-03-25</td><td>144</td></tr><tr><td>2017-03-26</td><td>131</td></tr><tr><td>2017-03-27</td><td>185</td></tr><tr><td>2017-03-28</td><td>149</td></tr><tr><td>2017-03-29</td><td>136</td></tr><tr><td>2017-03-30</td><td>157</td></tr><tr><td>2017-03-31</td><td>131</td></tr><tr><td>2017-04-01</td><td>170</td></tr><tr><td>2017-04-02</td><td>168</td></tr><tr><td>2017-04-03</td><td>246</td></tr><tr><td>2017-04-04</td><td>156</td></tr><tr><td>2017-04-05</td><td>122</td></tr><tr><td>2017-04-06</td><td>172</td></tr><tr><td>2017-04-07</td><td>160</td></tr><tr><td>2017-04-08</td><td>173</td></tr><tr><td>2017-04-09</td><td>140</td></tr><tr><td>2017-04-10</td><td>161</td></tr><tr><td>2017-04-11</td><td>137</td></tr><tr><td>2017-04-12</td><td>156</td></tr><tr><td>2017-04-13</td><td>108</td></tr><tr><td>2017-04-14</td><td>166</td></tr><tr><td>2017-04-15</td><td>181</td></tr><tr><td>2017-04-16</td><td>148</td></tr><tr><td>2017-04-17</td><td>168</td></tr><tr><td>2017-04-18</td><td>186</td></tr><tr><td>2017-04-19</td><td>218</td></tr><tr><td>2017-04-20</td><td>165</td></tr><tr><td>2017-04-21</td><td>137</td></tr><tr><td>2017-04-22</td><td>161</td></tr><tr><td>2017-04-23</td><td>178</td></tr><tr><td>2017-04-24</td><td>167</td></tr><tr><td>2017-04-25</td><td>176</td></tr><tr><td>2017-04-26</td><td>153</td></tr><tr><td>2017-04-27</td><td>176</td></tr><tr><td>2017-04-28</td><td>205</td></tr><tr><td>2017-04-29</td><td>163</td></tr><tr><td>2017-04-30</td><td>169</td></tr><tr><td>2017-05-01</td><td>220</td></tr><tr><td>2017-05-02</td><td>158</td></tr><tr><td>2017-05-03</td><td>172</td></tr><tr><td>2017-05-04</td><td>191</td></tr><tr><td>2017-05-05</td><td>204</td></tr><tr><td>2017-05-06</td><td>168</td></tr><tr><td>2017-05-07</td><td>188</td></tr><tr><td>2017-05-08</td><td>194</td></tr><tr><td>2017-05-09</td><td>191</td></tr><tr><td>2017-05-10</td><td>150</td></tr><tr><td>2017-05-11</td><td>164</td></tr><tr><td>2017-05-12</td><td>199</td></tr><tr><td>2017-05-13</td><td>164</td></tr><tr><td>2017-05-14</td><td>186</td></tr><tr><td>2017-05-15</td><td>171</td></tr><tr><td>2017-05-16</td><td>190</td></tr><tr><td>2017-05-17</td><td>170</td></tr><tr><td>2017-05-18</td><td>136</td></tr><tr><td>2017-05-19</td><td>171</td></tr><tr><td>2017-05-20</td><td>193</td></tr><tr><td>2017-05-21</td><td>185</td></tr><tr><td>2017-05-22</td><td>152</td></tr><tr><td>2017-05-23</td><td>158</td></tr><tr><td>2017-05-24</td><td>148</td></tr><tr><td>2017-05-25</td><td>189</td></tr><tr><td>2017-05-26</td><td>175</td></tr><tr><td>2017-05-27</td><td>148</td></tr><tr><td>2017-05-28</td><td>170</td></tr><tr><td>2017-05-29</td><td>157</td></tr><tr><td>2017-05-30</td><td>162</td></tr><tr><td>2017-05-31</td><td>192</td></tr><tr><td>2017-06-01</td><td>122</td></tr><tr><td>2017-06-02</td><td>137</td></tr><tr><td>2017-06-03</td><td>177</td></tr><tr><td>2017-06-04</td><td>148</td></tr><tr><td>2017-06-05</td><td>187</td></tr><tr><td>2017-06-06</td><td>216</td></tr><tr><td>2017-06-07</td><td>222</td></tr><tr><td>2017-06-08</td><td>171</td></tr><tr><td>2017-06-09</td><td>182</td></tr><tr><td>2017-06-10</td><td>151</td></tr><tr><td>2017-06-11</td><td>233</td></tr><tr><td>2017-06-12</td><td>153</td></tr><tr><td>2017-06-13</td><td>151</td></tr><tr><td>2017-06-14</td><td>258</td></tr><tr><td>2017-06-15</td><td>195</td></tr><tr><td>2017-06-16</td><td>133</td></tr><tr><td>2017-06-17</td><td>215</td></tr><tr><td>2017-06-18</td><td>163</td></tr><tr><td>2017-06-19</td><td>194</td></tr><tr><td>2017-06-20</td><td>185</td></tr><tr><td>2017-06-21</td><td>218</td></tr><tr><td>2017-06-22</td><td>191</td></tr><tr><td>2017-06-23</td><td>161</td></tr><tr><td>2017-06-24</td><td>196</td></tr><tr><td>2017-06-25</td><td>189</td></tr><tr><td>2017-06-26</td><td>187</td></tr><tr><td>2017-06-27</td><td>172</td></tr><tr><td>2017-06-28</td><td>215</td></tr><tr><td>2017-06-29</td><td>172</td></tr><tr><td>2017-06-30</td><td>136</td></tr></tbody></table></div>"
      ]
     },
     "metadata": {
      "application/vnd.databricks.v1+output": {
       "addedWidgets": {},
       "aggData": [],
       "aggError": "",
       "aggOverflow": false,
       "aggSchema": [],
       "aggSeriesLimitReached": false,
       "aggType": "",
       "arguments": {},
       "columnCustomDisplayInfos": {},
       "data": [
        [
         "2015-01-01",
         4
        ],
        [
         "2015-01-02",
         4
        ],
        [
         "2015-01-03",
         8
        ],
        [
         "2015-01-04",
         5
        ],
        [
         "2015-01-05",
         3
        ],
        [
         "2015-01-06",
         6
        ],
        [
         "2015-01-07",
         4
        ],
        [
         "2015-01-08",
         8
        ],
        [
         "2015-01-09",
         4
        ],
        [
         "2015-01-10",
         4
        ],
        [
         "2015-01-11",
         9
        ],
        [
         "2015-01-12",
         7
        ],
        [
         "2015-01-13",
         3
        ],
        [
         "2015-01-14",
         9
        ],
        [
         "2015-01-15",
         7
        ],
        [
         "2015-01-16",
         7
        ],
        [
         "2015-01-17",
         8
        ],
        [
         "2015-01-18",
         6
        ],
        [
         "2015-01-19",
         6
        ],
        [
         "2015-01-20",
         6
        ],
        [
         "2015-01-21",
         7
        ],
        [
         "2015-01-22",
         9
        ],
        [
         "2015-01-23",
         3
        ],
        [
         "2015-01-24",
         8
        ],
        [
         "2015-01-25",
         4
        ],
        [
         "2015-01-26",
         4
        ],
        [
         "2015-01-27",
         5
        ],
        [
         "2015-01-28",
         5
        ],
        [
         "2015-01-29",
         4
        ],
        [
         "2015-01-30",
         10
        ],
        [
         "2015-01-31",
         7
        ],
        [
         "2015-02-01",
         5
        ],
        [
         "2015-02-02",
         6
        ],
        [
         "2015-02-03",
         7
        ],
        [
         "2015-02-04",
         7
        ],
        [
         "2015-02-05",
         6
        ],
        [
         "2015-02-06",
         10
        ],
        [
         "2015-02-07",
         6
        ],
        [
         "2015-02-08",
         4
        ],
        [
         "2015-02-09",
         2
        ],
        [
         "2015-02-10",
         9
        ],
        [
         "2015-02-11",
         12
        ],
        [
         "2015-02-12",
         3
        ],
        [
         "2015-02-13",
         6
        ],
        [
         "2015-02-14",
         8
        ],
        [
         "2015-02-15",
         6
        ],
        [
         "2015-02-16",
         3
        ],
        [
         "2015-02-17",
         4
        ],
        [
         "2015-02-18",
         2
        ],
        [
         "2015-02-19",
         5
        ],
        [
         "2015-02-20",
         5
        ],
        [
         "2015-02-21",
         1
        ],
        [
         "2015-02-22",
         10
        ],
        [
         "2015-02-23",
         5
        ],
        [
         "2015-02-24",
         9
        ],
        [
         "2015-02-25",
         5
        ],
        [
         "2015-02-26",
         11
        ],
        [
         "2015-02-27",
         3
        ],
        [
         "2015-02-28",
         5
        ],
        [
         "2015-03-01",
         6
        ],
        [
         "2015-03-02",
         7
        ],
        [
         "2015-03-03",
         8
        ],
        [
         "2015-03-04",
         8
        ],
        [
         "2015-03-05",
         3
        ],
        [
         "2015-03-06",
         9
        ],
        [
         "2015-03-07",
         9
        ],
        [
         "2015-03-08",
         4
        ],
        [
         "2015-03-09",
         6
        ],
        [
         "2015-03-10",
         2
        ],
        [
         "2015-03-11",
         6
        ],
        [
         "2015-03-12",
         5
        ],
        [
         "2015-03-13",
         10
        ],
        [
         "2015-03-14",
         4
        ],
        [
         "2015-03-15",
         10
        ],
        [
         "2015-03-16",
         5
        ],
        [
         "2015-03-17",
         9
        ],
        [
         "2015-03-18",
         8
        ],
        [
         "2015-03-19",
         4
        ],
        [
         "2015-03-20",
         9
        ],
        [
         "2015-03-21",
         4
        ],
        [
         "2015-03-22",
         6
        ],
        [
         "2015-03-23",
         5
        ],
        [
         "2015-03-24",
         12
        ],
        [
         "2015-03-25",
         5
        ],
        [
         "2015-03-26",
         9
        ],
        [
         "2015-03-27",
         3
        ],
        [
         "2015-03-28",
         8
        ],
        [
         "2015-03-29",
         6
        ],
        [
         "2015-03-30",
         4
        ],
        [
         "2015-03-31",
         4
        ],
        [
         "2015-04-01",
         5
        ],
        [
         "2015-04-02",
         3
        ],
        [
         "2015-04-03",
         9
        ],
        [
         "2015-04-04",
         7
        ],
        [
         "2015-04-05",
         4
        ],
        [
         "2015-04-06",
         5
        ],
        [
         "2015-04-07",
         9
        ],
        [
         "2015-04-08",
         3
        ],
        [
         "2015-04-09",
         5
        ],
        [
         "2015-04-10",
         5
        ],
        [
         "2015-04-11",
         6
        ],
        [
         "2015-04-12",
         11
        ],
        [
         "2015-04-13",
         4
        ],
        [
         "2015-04-14",
         3
        ],
        [
         "2015-04-15",
         13
        ],
        [
         "2015-04-16",
         7
        ],
        [
         "2015-04-17",
         9
        ],
        [
         "2015-04-18",
         7
        ],
        [
         "2015-04-19",
         4
        ],
        [
         "2015-04-20",
         11
        ],
        [
         "2015-04-21",
         5
        ],
        [
         "2015-04-22",
         4
        ],
        [
         "2015-04-23",
         10
        ],
        [
         "2015-04-24",
         3
        ],
        [
         "2015-04-25",
         8
        ],
        [
         "2015-04-26",
         4
        ],
        [
         "2015-04-27",
         9
        ],
        [
         "2015-04-28",
         7
        ],
        [
         "2015-04-29",
         11
        ],
        [
         "2015-04-30",
         13
        ],
        [
         "2015-05-01",
         12
        ],
        [
         "2015-05-02",
         5
        ],
        [
         "2015-05-03",
         4
        ],
        [
         "2015-05-04",
         11
        ],
        [
         "2015-05-05",
         3
        ],
        [
         "2015-05-06",
         8
        ],
        [
         "2015-05-07",
         5
        ],
        [
         "2015-05-08",
         10
        ],
        [
         "2015-05-09",
         6
        ],
        [
         "2015-05-10",
         3
        ],
        [
         "2015-05-11",
         4
        ],
        [
         "2015-05-12",
         8
        ],
        [
         "2015-05-13",
         13
        ],
        [
         "2015-05-14",
         6
        ],
        [
         "2015-05-15",
         7
        ],
        [
         "2015-05-16",
         11
        ],
        [
         "2015-05-17",
         9
        ],
        [
         "2015-05-18",
         8
        ],
        [
         "2015-05-19",
         6
        ],
        [
         "2015-05-20",
         6
        ],
        [
         "2015-05-21",
         6
        ],
        [
         "2015-05-22",
         5
        ],
        [
         "2015-05-23",
         7
        ],
        [
         "2015-05-24",
         8
        ],
        [
         "2015-05-25",
         9
        ],
        [
         "2015-05-26",
         5
        ],
        [
         "2015-05-27",
         5
        ],
        [
         "2015-05-28",
         5
        ],
        [
         "2015-05-29",
         1
        ],
        [
         "2015-05-30",
         7
        ],
        [
         "2015-05-31",
         3
        ],
        [
         "2015-06-01",
         4
        ],
        [
         "2015-06-02",
         12
        ],
        [
         "2015-06-03",
         3
        ],
        [
         "2015-06-04",
         6
        ],
        [
         "2015-06-05",
         6
        ],
        [
         "2015-06-06",
         7
        ],
        [
         "2015-06-07",
         8
        ],
        [
         "2015-06-08",
         8
        ],
        [
         "2015-06-09",
         5
        ],
        [
         "2015-06-10",
         8
        ],
        [
         "2015-06-11",
         5
        ],
        [
         "2015-06-12",
         12
        ],
        [
         "2015-06-13",
         4
        ],
        [
         "2015-06-14",
         4
        ],
        [
         "2015-06-15",
         6
        ],
        [
         "2015-06-16",
         2
        ],
        [
         "2015-06-17",
         6
        ],
        [
         "2015-06-18",
         11
        ],
        [
         "2015-06-19",
         13
        ],
        [
         "2015-06-20",
         7
        ],
        [
         "2015-06-21",
         9
        ],
        [
         "2015-06-22",
         5
        ],
        [
         "2015-06-23",
         15
        ],
        [
         "2015-06-24",
         7
        ],
        [
         "2015-06-25",
         4
        ],
        [
         "2015-06-26",
         7
        ],
        [
         "2015-06-27",
         9
        ],
        [
         "2015-06-28",
         5
        ],
        [
         "2015-06-29",
         8
        ],
        [
         "2015-06-30",
         6
        ],
        [
         "2015-07-01",
         8
        ],
        [
         "2015-07-02",
         3
        ],
        [
         "2015-07-03",
         13
        ],
        [
         "2015-07-04",
         9
        ],
        [
         "2015-07-05",
         10
        ],
        [
         "2015-07-06",
         10
        ],
        [
         "2015-07-07",
         9
        ],
        [
         "2015-07-08",
         6
        ],
        [
         "2015-07-09",
         5
        ],
        [
         "2015-07-10",
         7
        ],
        [
         "2015-07-11",
         12
        ],
        [
         "2015-07-12",
         7
        ],
        [
         "2015-07-13",
         12
        ],
        [
         "2015-07-14",
         9
        ],
        [
         "2015-07-15",
         4
        ],
        [
         "2015-07-16",
         6
        ],
        [
         "2015-07-17",
         11
        ],
        [
         "2015-07-18",
         7
        ],
        [
         "2015-07-19",
         7
        ],
        [
         "2015-07-20",
         9
        ],
        [
         "2015-07-21",
         10
        ],
        [
         "2015-07-22",
         7
        ],
        [
         "2015-07-23",
         7
        ],
        [
         "2015-07-24",
         5
        ],
        [
         "2015-07-25",
         9
        ],
        [
         "2015-07-26",
         5
        ],
        [
         "2015-07-27",
         10
        ],
        [
         "2015-07-28",
         5
        ],
        [
         "2015-07-29",
         6
        ],
        [
         "2015-07-30",
         10
        ],
        [
         "2015-07-31",
         9
        ],
        [
         "2015-08-01",
         9
        ],
        [
         "2015-08-02",
         8
        ],
        [
         "2015-08-03",
         5
        ],
        [
         "2015-08-04",
         8
        ],
        [
         "2015-08-05",
         7
        ],
        [
         "2015-08-06",
         12
        ],
        [
         "2015-08-07",
         11
        ],
        [
         "2015-08-08",
         8
        ],
        [
         "2015-08-09",
         8
        ],
        [
         "2015-08-10",
         4
        ],
        [
         "2015-08-11",
         5
        ],
        [
         "2015-08-12",
         9
        ],
        [
         "2015-08-13",
         12
        ],
        [
         "2015-08-14",
         10
        ],
        [
         "2015-08-15",
         12
        ],
        [
         "2015-08-16",
         5
        ],
        [
         "2015-08-17",
         10
        ],
        [
         "2015-08-18",
         8
        ],
        [
         "2015-08-19",
         11
        ],
        [
         "2015-08-20",
         12
        ],
        [
         "2015-08-21",
         10
        ],
        [
         "2015-08-22",
         10
        ],
        [
         "2015-08-23",
         5
        ],
        [
         "2015-08-24",
         10
        ],
        [
         "2015-08-25",
         11
        ],
        [
         "2015-08-26",
         13
        ],
        [
         "2015-08-27",
         11
        ],
        [
         "2015-08-28",
         8
        ],
        [
         "2015-08-29",
         6
        ],
        [
         "2015-08-30",
         8
        ],
        [
         "2015-08-31",
         12
        ],
        [
         "2015-09-01",
         2
        ],
        [
         "2015-09-02",
         7
        ],
        [
         "2015-09-03",
         8
        ],
        [
         "2015-09-04",
         6
        ],
        [
         "2015-09-05",
         3
        ],
        [
         "2015-09-06",
         4
        ],
        [
         "2015-09-07",
         2
        ],
        [
         "2015-09-08",
         9
        ],
        [
         "2015-09-09",
         9
        ],
        [
         "2015-09-10",
         9
        ],
        [
         "2015-09-11",
         8
        ],
        [
         "2015-09-12",
         7
        ],
        [
         "2015-09-13",
         11
        ],
        [
         "2015-09-14",
         9
        ],
        [
         "2015-09-15",
         4
        ],
        [
         "2015-09-16",
         5
        ],
        [
         "2015-09-17",
         5
        ],
        [
         "2015-09-18",
         9
        ],
        [
         "2015-09-19",
         9
        ],
        [
         "2015-09-20",
         7
        ],
        [
         "2015-09-21",
         5
        ],
        [
         "2015-09-22",
         5
        ],
        [
         "2015-09-23",
         7
        ],
        [
         "2015-09-24",
         9
        ],
        [
         "2015-09-25",
         6
        ],
        [
         "2015-09-26",
         10
        ],
        [
         "2015-09-27",
         3
        ],
        [
         "2015-09-28",
         2
        ],
        [
         "2015-09-29",
         7
        ],
        [
         "2015-09-30",
         9
        ],
        [
         "2015-10-01",
         8
        ],
        [
         "2015-10-02",
         8
        ],
        [
         "2015-10-03",
         7
        ],
        [
         "2015-10-04",
         6
        ],
        [
         "2015-10-05",
         3
        ],
        [
         "2015-10-06",
         7
        ],
        [
         "2015-10-07",
         6
        ],
        [
         "2015-10-08",
         7
        ],
        [
         "2015-10-09",
         3
        ],
        [
         "2015-10-10",
         4
        ],
        [
         "2015-10-11",
         7
        ],
        [
         "2015-10-12",
         11
        ],
        [
         "2015-10-13",
         13
        ],
        [
         "2015-10-14",
         6
        ],
        [
         "2015-10-15",
         6
        ],
        [
         "2015-10-16",
         9
        ],
        [
         "2015-10-17",
         6
        ],
        [
         "2015-10-18",
         7
        ],
        [
         "2015-10-19",
         10
        ],
        [
         "2015-10-20",
         9
        ],
        [
         "2015-10-21",
         9
        ],
        [
         "2015-10-22",
         7
        ],
        [
         "2015-10-23",
         7
        ],
        [
         "2015-10-24",
         9
        ],
        [
         "2015-10-25",
         7
        ],
        [
         "2015-10-26",
         9
        ],
        [
         "2015-10-27",
         3
        ],
        [
         "2015-10-28",
         6
        ],
        [
         "2015-10-29",
         6
        ],
        [
         "2015-10-30",
         12
        ],
        [
         "2015-10-31",
         5
        ],
        [
         "2015-11-01",
         6
        ],
        [
         "2015-11-02",
         4
        ],
        [
         "2015-11-03",
         6
        ],
        [
         "2015-11-04",
         1
        ],
        [
         "2015-11-05",
         6
        ],
        [
         "2015-11-06",
         8
        ],
        [
         "2015-11-07",
         5
        ],
        [
         "2015-11-08",
         7
        ],
        [
         "2015-11-09",
         4
        ],
        [
         "2015-11-10",
         7
        ],
        [
         "2015-11-11",
         11
        ],
        [
         "2015-11-12",
         6
        ],
        [
         "2015-11-13",
         4
        ],
        [
         "2015-11-14",
         5
        ],
        [
         "2015-11-15",
         2
        ],
        [
         "2015-11-16",
         8
        ],
        [
         "2015-11-17",
         6
        ],
        [
         "2015-11-18",
         7
        ],
        [
         "2015-11-19",
         4
        ],
        [
         "2015-11-20",
         9
        ],
        [
         "2015-11-21",
         7
        ],
        [
         "2015-11-22",
         4
        ],
        [
         "2015-11-23",
         5
        ],
        [
         "2015-11-24",
         10
        ],
        [
         "2015-11-25",
         8
        ],
        [
         "2015-11-26",
         6
        ],
        [
         "2015-11-27",
         14
        ],
        [
         "2015-11-28",
         6
        ],
        [
         "2015-11-29",
         6
        ],
        [
         "2015-11-30",
         9
        ],
        [
         "2015-12-01",
         11
        ],
        [
         "2015-12-02",
         9
        ],
        [
         "2015-12-03",
         16
        ],
        [
         "2015-12-04",
         3
        ],
        [
         "2015-12-05",
         13
        ],
        [
         "2015-12-06",
         5
        ],
        [
         "2015-12-07",
         17
        ],
        [
         "2015-12-08",
         11
        ],
        [
         "2015-12-09",
         7
        ],
        [
         "2015-12-10",
         9
        ],
        [
         "2015-12-11",
         13
        ],
        [
         "2015-12-12",
         17
        ],
        [
         "2015-12-13",
         12
        ],
        [
         "2015-12-14",
         16
        ],
        [
         "2015-12-15",
         5
        ],
        [
         "2015-12-16",
         11
        ],
        [
         "2015-12-17",
         11
        ],
        [
         "2015-12-18",
         10
        ],
        [
         "2015-12-19",
         14
        ],
        [
         "2015-12-20",
         14
        ],
        [
         "2015-12-21",
         3
        ],
        [
         "2015-12-22",
         12
        ],
        [
         "2015-12-23",
         12
        ],
        [
         "2015-12-24",
         12
        ],
        [
         "2015-12-25",
         8
        ],
        [
         "2015-12-26",
         8
        ],
        [
         "2015-12-27",
         9
        ],
        [
         "2015-12-28",
         10
        ],
        [
         "2015-12-29",
         14
        ],
        [
         "2015-12-30",
         7
        ],
        [
         "2015-12-31",
         7
        ],
        [
         "2016-01-01",
         8
        ],
        [
         "2016-01-02",
         12
        ],
        [
         "2016-01-03",
         7
        ],
        [
         "2016-01-04",
         8
        ],
        [
         "2016-01-05",
         7
        ],
        [
         "2016-01-06",
         2
        ],
        [
         "2016-01-07",
         9
        ],
        [
         "2016-01-08",
         10
        ],
        [
         "2016-01-09",
         9
        ],
        [
         "2016-01-10",
         10
        ],
        [
         "2016-01-11",
         7
        ],
        [
         "2016-01-12",
         7
        ],
        [
         "2016-01-13",
         12
        ],
        [
         "2016-01-14",
         6
        ],
        [
         "2016-01-15",
         10
        ],
        [
         "2016-01-16",
         11
        ],
        [
         "2016-01-17",
         7
        ],
        [
         "2016-01-18",
         7
        ],
        [
         "2016-01-19",
         5
        ],
        [
         "2016-01-20",
         7
        ],
        [
         "2016-01-21",
         7
        ],
        [
         "2016-01-22",
         10
        ],
        [
         "2016-01-23",
         14
        ],
        [
         "2016-01-24",
         7
        ],
        [
         "2016-01-25",
         4
        ],
        [
         "2016-01-26",
         9
        ],
        [
         "2016-01-27",
         3
        ],
        [
         "2016-01-28",
         5
        ],
        [
         "2016-01-29",
         8
        ],
        [
         "2016-01-30",
         6
        ],
        [
         "2016-01-31",
         8
        ],
        [
         "2016-02-01",
         10
        ],
        [
         "2016-02-02",
         10
        ],
        [
         "2016-02-03",
         9
        ],
        [
         "2016-02-04",
         17
        ],
        [
         "2016-02-05",
         8
        ],
        [
         "2016-02-06",
         14
        ],
        [
         "2016-02-07",
         8
        ],
        [
         "2016-02-08",
         11
        ],
        [
         "2016-02-09",
         10
        ],
        [
         "2016-02-10",
         5
        ],
        [
         "2016-02-11",
         4
        ],
        [
         "2016-02-12",
         10
        ],
        [
         "2016-02-13",
         10
        ],
        [
         "2016-02-14",
         10
        ],
        [
         "2016-02-15",
         11
        ],
        [
         "2016-02-16",
         4
        ],
        [
         "2016-02-17",
         12
        ],
        [
         "2016-02-18",
         13
        ],
        [
         "2016-02-19",
         10
        ],
        [
         "2016-02-20",
         10
        ],
        [
         "2016-02-21",
         13
        ],
        [
         "2016-02-22",
         11
        ],
        [
         "2016-02-23",
         3
        ],
        [
         "2016-02-24",
         11
        ],
        [
         "2016-02-25",
         15
        ],
        [
         "2016-02-26",
         7
        ],
        [
         "2016-02-27",
         3
        ],
        [
         "2016-02-28",
         8
        ],
        [
         "2016-03-01",
         8
        ],
        [
         "2016-03-02",
         10
        ],
        [
         "2016-03-03",
         6
        ],
        [
         "2016-03-04",
         6
        ],
        [
         "2016-03-05",
         17
        ],
        [
         "2016-03-06",
         6
        ],
        [
         "2016-03-07",
         9
        ],
        [
         "2016-03-08",
         14
        ],
        [
         "2016-03-09",
         5
        ],
        [
         "2016-03-10",
         5
        ],
        [
         "2016-03-11",
         8
        ],
        [
         "2016-03-12",
         19
        ],
        [
         "2016-03-13",
         6
        ],
        [
         "2016-03-14",
         9
        ],
        [
         "2016-03-15",
         5
        ],
        [
         "2016-03-16",
         7
        ],
        [
         "2016-03-17",
         8
        ],
        [
         "2016-03-18",
         15
        ],
        [
         "2016-03-19",
         11
        ],
        [
         "2016-03-20",
         11
        ],
        [
         "2016-03-21",
         5
        ],
        [
         "2016-03-22",
         7
        ],
        [
         "2016-03-23",
         6
        ],
        [
         "2016-03-24",
         5
        ],
        [
         "2016-03-25",
         4
        ],
        [
         "2016-03-26",
         8
        ],
        [
         "2016-03-27",
         3
        ],
        [
         "2016-03-28",
         13
        ],
        [
         "2016-03-29",
         10
        ],
        [
         "2016-03-30",
         10
        ],
        [
         "2016-03-31",
         10
        ],
        [
         "2016-04-01",
         11
        ],
        [
         "2016-04-02",
         13
        ],
        [
         "2016-04-03",
         5
        ],
        [
         "2016-04-04",
         12
        ],
        [
         "2016-04-05",
         10
        ],
        [
         "2016-04-06",
         5
        ],
        [
         "2016-04-07",
         11
        ],
        [
         "2016-04-08",
         13
        ],
        [
         "2016-04-09",
         10
        ],
        [
         "2016-04-10",
         6
        ],
        [
         "2016-04-11",
         12
        ],
        [
         "2016-04-12",
         7
        ],
        [
         "2016-04-13",
         18
        ],
        [
         "2016-04-14",
         7
        ],
        [
         "2016-04-15",
         9
        ],
        [
         "2016-04-16",
         7
        ],
        [
         "2016-04-17",
         16
        ],
        [
         "2016-04-18",
         11
        ],
        [
         "2016-04-19",
         7
        ],
        [
         "2016-04-20",
         9
        ],
        [
         "2016-04-21",
         5
        ],
        [
         "2016-04-22",
         6
        ],
        [
         "2016-04-23",
         6
        ],
        [
         "2016-04-24",
         14
        ],
        [
         "2016-04-25",
         15
        ],
        [
         "2016-04-26",
         9
        ],
        [
         "2016-04-27",
         10
        ],
        [
         "2016-04-28",
         8
        ],
        [
         "2016-04-29",
         7
        ],
        [
         "2016-04-30",
         11
        ],
        [
         "2016-05-01",
         13
        ],
        [
         "2016-05-02",
         11
        ],
        [
         "2016-05-03",
         15
        ],
        [
         "2016-05-04",
         9
        ],
        [
         "2016-05-05",
         14
        ],
        [
         "2016-05-06",
         15
        ],
        [
         "2016-05-07",
         9
        ],
        [
         "2016-05-08",
         15
        ],
        [
         "2016-05-09",
         8
        ],
        [
         "2016-05-10",
         6
        ],
        [
         "2016-05-11",
         11
        ],
        [
         "2016-05-12",
         13
        ],
        [
         "2016-05-13",
         9
        ],
        [
         "2016-05-14",
         12
        ],
        [
         "2016-05-15",
         8
        ],
        [
         "2016-05-16",
         8
        ],
        [
         "2016-05-17",
         8
        ],
        [
         "2016-05-18",
         2
        ],
        [
         "2016-05-19",
         7
        ],
        [
         "2016-05-20",
         9
        ],
        [
         "2016-05-21",
         10
        ],
        [
         "2016-05-22",
         12
        ],
        [
         "2016-05-23",
         12
        ],
        [
         "2016-05-24",
         15
        ],
        [
         "2016-05-25",
         7
        ],
        [
         "2016-05-26",
         10
        ],
        [
         "2016-05-27",
         10
        ],
        [
         "2016-05-28",
         12
        ],
        [
         "2016-05-29",
         8
        ],
        [
         "2016-05-30",
         15
        ],
        [
         "2016-05-31",
         16
        ],
        [
         "2016-06-01",
         15
        ],
        [
         "2016-06-02",
         13
        ],
        [
         "2016-06-03",
         8
        ],
        [
         "2016-06-04",
         8
        ],
        [
         "2016-06-05",
         7
        ],
        [
         "2016-06-06",
         11
        ],
        [
         "2016-06-07",
         11
        ],
        [
         "2016-06-08",
         17
        ],
        [
         "2016-06-09",
         6
        ],
        [
         "2016-06-10",
         14
        ],
        [
         "2016-06-11",
         10
        ],
        [
         "2016-06-12",
         11
        ],
        [
         "2016-06-13",
         9
        ],
        [
         "2016-06-14",
         11
        ],
        [
         "2016-06-15",
         14
        ],
        [
         "2016-06-16",
         7
        ],
        [
         "2016-06-17",
         9
        ],
        [
         "2016-06-18",
         8
        ],
        [
         "2016-06-19",
         13
        ],
        [
         "2016-06-20",
         10
        ],
        [
         "2016-06-21",
         15
        ],
        [
         "2016-06-22",
         6
        ],
        [
         "2016-06-23",
         9
        ],
        [
         "2016-06-24",
         10
        ],
        [
         "2016-06-25",
         9
        ],
        [
         "2016-06-26",
         8
        ],
        [
         "2016-06-27",
         13
        ],
        [
         "2016-06-28",
         13
        ],
        [
         "2016-06-29",
         7
        ],
        [
         "2016-06-30",
         10
        ],
        [
         "2016-07-01",
         35
        ],
        [
         "2016-07-02",
         37
        ],
        [
         "2016-07-03",
         64
        ],
        [
         "2016-07-04",
         58
        ],
        [
         "2016-07-05",
         39
        ],
        [
         "2016-07-06",
         24
        ],
        [
         "2016-07-07",
         45
        ],
        [
         "2016-07-08",
         38
        ],
        [
         "2016-07-09",
         58
        ],
        [
         "2016-07-10",
         34
        ],
        [
         "2016-07-11",
         69
        ],
        [
         "2016-07-12",
         47
        ],
        [
         "2016-07-13",
         44
        ],
        [
         "2016-07-14",
         39
        ],
        [
         "2016-07-15",
         59
        ],
        [
         "2016-07-16",
         40
        ],
        [
         "2016-07-17",
         39
        ],
        [
         "2016-07-18",
         21
        ],
        [
         "2016-07-19",
         37
        ],
        [
         "2016-07-20",
         72
        ],
        [
         "2016-07-21",
         21
        ],
        [
         "2016-07-22",
         45
        ],
        [
         "2016-07-23",
         34
        ],
        [
         "2016-07-24",
         85
        ],
        [
         "2016-07-25",
         39
        ],
        [
         "2016-07-26",
         44
        ],
        [
         "2016-07-27",
         40
        ],
        [
         "2016-07-28",
         39
        ],
        [
         "2016-07-29",
         64
        ],
        [
         "2016-07-30",
         31
        ],
        [
         "2016-07-31",
         46
        ],
        [
         "2016-08-01",
         105
        ],
        [
         "2016-08-02",
         104
        ],
        [
         "2016-08-03",
         126
        ],
        [
         "2016-08-04",
         99
        ],
        [
         "2016-08-05",
         90
        ],
        [
         "2016-08-06",
         106
        ],
        [
         "2016-08-07",
         140
        ],
        [
         "2016-08-08",
         180
        ],
        [
         "2016-08-09",
         124
        ],
        [
         "2016-08-10",
         88
        ],
        [
         "2016-08-11",
         91
        ],
        [
         "2016-08-12",
         148
        ],
        [
         "2016-08-13",
         129
        ],
        [
         "2016-08-14",
         128
        ],
        [
         "2016-08-15",
         93
        ],
        [
         "2016-08-16",
         132
        ],
        [
         "2016-08-17",
         124
        ],
        [
         "2016-08-18",
         137
        ],
        [
         "2016-08-19",
         149
        ],
        [
         "2016-08-20",
         99
        ],
        [
         "2016-08-21",
         115
        ],
        [
         "2016-08-22",
         62
        ],
        [
         "2016-08-23",
         89
        ],
        [
         "2016-08-24",
         166
        ],
        [
         "2016-08-25",
         152
        ],
        [
         "2016-08-26",
         122
        ],
        [
         "2016-08-27",
         112
        ],
        [
         "2016-08-28",
         122
        ],
        [
         "2016-08-29",
         147
        ],
        [
         "2016-08-30",
         131
        ],
        [
         "2016-08-31",
         126
        ],
        [
         "2016-09-01",
         83
        ],
        [
         "2016-09-02",
         140
        ],
        [
         "2016-09-03",
         115
        ],
        [
         "2016-09-04",
         136
        ],
        [
         "2016-09-05",
         112
        ],
        [
         "2016-09-06",
         106
        ],
        [
         "2016-09-07",
         137
        ],
        [
         "2016-09-08",
         139
        ],
        [
         "2016-09-09",
         153
        ],
        [
         "2016-09-10",
         118
        ],
        [
         "2016-09-11",
         87
        ],
        [
         "2016-09-12",
         162
        ],
        [
         "2016-09-13",
         168
        ],
        [
         "2016-09-14",
         129
        ],
        [
         "2016-09-15",
         128
        ],
        [
         "2016-09-16",
         102
        ],
        [
         "2016-09-17",
         129
        ],
        [
         "2016-09-18",
         148
        ],
        [
         "2016-09-19",
         170
        ],
        [
         "2016-09-20",
         136
        ],
        [
         "2016-09-21",
         133
        ],
        [
         "2016-09-22",
         126
        ],
        [
         "2016-09-23",
         149
        ],
        [
         "2016-09-24",
         107
        ],
        [
         "2016-09-25",
         100
        ],
        [
         "2016-09-26",
         114
        ],
        [
         "2016-09-27",
         145
        ],
        [
         "2016-09-28",
         121
        ],
        [
         "2016-09-29",
         81
        ],
        [
         "2016-09-30",
         126
        ],
        [
         "2016-10-01",
         127
        ],
        [
         "2016-10-02",
         157
        ],
        [
         "2016-10-03",
         130
        ],
        [
         "2016-10-04",
         112
        ],
        [
         "2016-10-05",
         148
        ],
        [
         "2016-10-06",
         185
        ],
        [
         "2016-10-07",
         118
        ],
        [
         "2016-10-08",
         180
        ],
        [
         "2016-10-09",
         142
        ],
        [
         "2016-10-10",
         129
        ],
        [
         "2016-10-11",
         117
        ],
        [
         "2016-10-12",
         121
        ],
        [
         "2016-10-13",
         118
        ],
        [
         "2016-10-14",
         143
        ],
        [
         "2016-10-15",
         158
        ],
        [
         "2016-10-16",
         89
        ],
        [
         "2016-10-17",
         120
        ],
        [
         "2016-10-18",
         140
        ],
        [
         "2016-10-19",
         112
        ],
        [
         "2016-10-20",
         126
        ],
        [
         "2016-10-21",
         125
        ],
        [
         "2016-10-22",
         161
        ],
        [
         "2016-10-23",
         142
        ],
        [
         "2016-10-24",
         101
        ],
        [
         "2016-10-25",
         124
        ],
        [
         "2016-10-26",
         154
        ],
        [
         "2016-10-27",
         102
        ],
        [
         "2016-10-28",
         119
        ],
        [
         "2016-10-29",
         109
        ],
        [
         "2016-10-30",
         121
        ],
        [
         "2016-10-31",
         118
        ],
        [
         "2016-11-01",
         119
        ],
        [
         "2016-11-02",
         126
        ],
        [
         "2016-11-03",
         172
        ],
        [
         "2016-11-04",
         136
        ],
        [
         "2016-11-05",
         119
        ],
        [
         "2016-11-06",
         125
        ],
        [
         "2016-11-07",
         153
        ],
        [
         "2016-11-08",
         101
        ],
        [
         "2016-11-09",
         125
        ],
        [
         "2016-11-10",
         140
        ],
        [
         "2016-11-11",
         85
        ],
        [
         "2016-11-12",
         132
        ],
        [
         "2016-11-13",
         136
        ],
        [
         "2016-11-14",
         152
        ],
        [
         "2016-11-15",
         147
        ],
        [
         "2016-11-16",
         117
        ],
        [
         "2016-11-17",
         139
        ],
        [
         "2016-11-18",
         161
        ],
        [
         "2016-11-19",
         148
        ],
        [
         "2016-11-20",
         87
        ],
        [
         "2016-11-21",
         147
        ],
        [
         "2016-11-22",
         170
        ],
        [
         "2016-11-23",
         116
        ],
        [
         "2016-11-24",
         182
        ],
        [
         "2016-11-25",
         104
        ],
        [
         "2016-11-26",
         136
        ],
        [
         "2016-11-27",
         152
        ],
        [
         "2016-11-28",
         153
        ],
        [
         "2016-11-29",
         160
        ],
        [
         "2016-11-30",
         152
        ],
        [
         "2016-12-01",
         167
        ],
        [
         "2016-12-02",
         172
        ],
        [
         "2016-12-03",
         178
        ],
        [
         "2016-12-04",
         166
        ],
        [
         "2016-12-05",
         167
        ],
        [
         "2016-12-06",
         193
        ],
        [
         "2016-12-07",
         237
        ],
        [
         "2016-12-08",
         162
        ],
        [
         "2016-12-09",
         148
        ],
        [
         "2016-12-10",
         122
        ],
        [
         "2016-12-11",
         178
        ],
        [
         "2016-12-12",
         188
        ],
        [
         "2016-12-13",
         189
        ],
        [
         "2016-12-14",
         150
        ],
        [
         "2016-12-15",
         194
        ],
        [
         "2016-12-16",
         130
        ],
        [
         "2016-12-17",
         165
        ],
        [
         "2016-12-18",
         182
        ],
        [
         "2016-12-19",
         169
        ],
        [
         "2016-12-20",
         156
        ],
        [
         "2016-12-21",
         157
        ],
        [
         "2016-12-22",
         103
        ],
        [
         "2016-12-23",
         159
        ],
        [
         "2016-12-24",
         170
        ],
        [
         "2016-12-25",
         163
        ],
        [
         "2016-12-26",
         175
        ],
        [
         "2016-12-27",
         131
        ],
        [
         "2016-12-28",
         161
        ],
        [
         "2016-12-29",
         181
        ],
        [
         "2016-12-30",
         158
        ],
        [
         "2016-12-31",
         195
        ],
        [
         "2017-01-01",
         98
        ],
        [
         "2017-01-02",
         135
        ],
        [
         "2017-01-03",
         138
        ],
        [
         "2017-01-04",
         138
        ],
        [
         "2017-01-05",
         141
        ],
        [
         "2017-01-06",
         151
        ],
        [
         "2017-01-07",
         152
        ],
        [
         "2017-01-08",
         168
        ],
        [
         "2017-01-09",
         117
        ],
        [
         "2017-01-10",
         192
        ],
        [
         "2017-01-11",
         162
        ],
        [
         "2017-01-12",
         121
        ],
        [
         "2017-01-13",
         123
        ],
        [
         "2017-01-14",
         143
        ],
        [
         "2017-01-15",
         156
        ],
        [
         "2017-01-16",
         171
        ],
        [
         "2017-01-17",
         123
        ],
        [
         "2017-01-18",
         159
        ],
        [
         "2017-01-19",
         131
        ],
        [
         "2017-01-20",
         195
        ],
        [
         "2017-01-21",
         131
        ],
        [
         "2017-01-22",
         126
        ],
        [
         "2017-01-23",
         113
        ],
        [
         "2017-01-24",
         173
        ],
        [
         "2017-01-25",
         121
        ],
        [
         "2017-01-26",
         156
        ],
        [
         "2017-01-27",
         142
        ],
        [
         "2017-01-28",
         181
        ],
        [
         "2017-01-29",
         142
        ],
        [
         "2017-01-30",
         145
        ],
        [
         "2017-01-31",
         148
        ],
        [
         "2017-02-01",
         179
        ],
        [
         "2017-02-02",
         148
        ],
        [
         "2017-02-03",
         189
        ],
        [
         "2017-02-04",
         128
        ],
        [
         "2017-02-05",
         172
        ],
        [
         "2017-02-06",
         156
        ],
        [
         "2017-02-07",
         161
        ],
        [
         "2017-02-08",
         164
        ],
        [
         "2017-02-09",
         138
        ],
        [
         "2017-02-10",
         168
        ],
        [
         "2017-02-11",
         124
        ],
        [
         "2017-02-12",
         163
        ],
        [
         "2017-02-13",
         150
        ],
        [
         "2017-02-14",
         135
        ],
        [
         "2017-02-15",
         155
        ],
        [
         "2017-02-16",
         124
        ],
        [
         "2017-02-17",
         194
        ],
        [
         "2017-02-18",
         195
        ],
        [
         "2017-02-19",
         165
        ],
        [
         "2017-02-20",
         237
        ],
        [
         "2017-02-21",
         167
        ],
        [
         "2017-02-22",
         125
        ],
        [
         "2017-02-23",
         137
        ],
        [
         "2017-02-24",
         152
        ],
        [
         "2017-02-25",
         103
        ],
        [
         "2017-02-26",
         119
        ],
        [
         "2017-02-27",
         174
        ],
        [
         "2017-02-28",
         162
        ],
        [
         "2017-03-01",
         306
        ],
        [
         "2017-03-02",
         118
        ],
        [
         "2017-03-03",
         129
        ],
        [
         "2017-03-04",
         144
        ],
        [
         "2017-03-05",
         146
        ],
        [
         "2017-03-06",
         137
        ],
        [
         "2017-03-07",
         159
        ],
        [
         "2017-03-08",
         136
        ],
        [
         "2017-03-09",
         179
        ],
        [
         "2017-03-10",
         159
        ],
        [
         "2017-03-11",
         158
        ],
        [
         "2017-03-12",
         167
        ],
        [
         "2017-03-13",
         191
        ],
        [
         "2017-03-14",
         137
        ],
        [
         "2017-03-15",
         141
        ],
        [
         "2017-03-16",
         107
        ],
        [
         "2017-03-17",
         138
        ],
        [
         "2017-03-18",
         142
        ],
        [
         "2017-03-19",
         152
        ],
        [
         "2017-03-20",
         163
        ],
        [
         "2017-03-21",
         177
        ],
        [
         "2017-03-22",
         141
        ],
        [
         "2017-03-23",
         155
        ],
        [
         "2017-03-24",
         158
        ],
        [
         "2017-03-25",
         144
        ],
        [
         "2017-03-26",
         131
        ],
        [
         "2017-03-27",
         185
        ],
        [
         "2017-03-28",
         149
        ],
        [
         "2017-03-29",
         136
        ],
        [
         "2017-03-30",
         157
        ],
        [
         "2017-03-31",
         131
        ],
        [
         "2017-04-01",
         170
        ],
        [
         "2017-04-02",
         168
        ],
        [
         "2017-04-03",
         246
        ],
        [
         "2017-04-04",
         156
        ],
        [
         "2017-04-05",
         122
        ],
        [
         "2017-04-06",
         172
        ],
        [
         "2017-04-07",
         160
        ],
        [
         "2017-04-08",
         173
        ],
        [
         "2017-04-09",
         140
        ],
        [
         "2017-04-10",
         161
        ],
        [
         "2017-04-11",
         137
        ],
        [
         "2017-04-12",
         156
        ],
        [
         "2017-04-13",
         108
        ],
        [
         "2017-04-14",
         166
        ],
        [
         "2017-04-15",
         181
        ],
        [
         "2017-04-16",
         148
        ],
        [
         "2017-04-17",
         168
        ],
        [
         "2017-04-18",
         186
        ],
        [
         "2017-04-19",
         218
        ],
        [
         "2017-04-20",
         165
        ],
        [
         "2017-04-21",
         137
        ],
        [
         "2017-04-22",
         161
        ],
        [
         "2017-04-23",
         178
        ],
        [
         "2017-04-24",
         167
        ],
        [
         "2017-04-25",
         176
        ],
        [
         "2017-04-26",
         153
        ],
        [
         "2017-04-27",
         176
        ],
        [
         "2017-04-28",
         205
        ],
        [
         "2017-04-29",
         163
        ],
        [
         "2017-04-30",
         169
        ],
        [
         "2017-05-01",
         220
        ],
        [
         "2017-05-02",
         158
        ],
        [
         "2017-05-03",
         172
        ],
        [
         "2017-05-04",
         191
        ],
        [
         "2017-05-05",
         204
        ],
        [
         "2017-05-06",
         168
        ],
        [
         "2017-05-07",
         188
        ],
        [
         "2017-05-08",
         194
        ],
        [
         "2017-05-09",
         191
        ],
        [
         "2017-05-10",
         150
        ],
        [
         "2017-05-11",
         164
        ],
        [
         "2017-05-12",
         199
        ],
        [
         "2017-05-13",
         164
        ],
        [
         "2017-05-14",
         186
        ],
        [
         "2017-05-15",
         171
        ],
        [
         "2017-05-16",
         190
        ],
        [
         "2017-05-17",
         170
        ],
        [
         "2017-05-18",
         136
        ],
        [
         "2017-05-19",
         171
        ],
        [
         "2017-05-20",
         193
        ],
        [
         "2017-05-21",
         185
        ],
        [
         "2017-05-22",
         152
        ],
        [
         "2017-05-23",
         158
        ],
        [
         "2017-05-24",
         148
        ],
        [
         "2017-05-25",
         189
        ],
        [
         "2017-05-26",
         175
        ],
        [
         "2017-05-27",
         148
        ],
        [
         "2017-05-28",
         170
        ],
        [
         "2017-05-29",
         157
        ],
        [
         "2017-05-30",
         162
        ],
        [
         "2017-05-31",
         192
        ],
        [
         "2017-06-01",
         122
        ],
        [
         "2017-06-02",
         137
        ],
        [
         "2017-06-03",
         177
        ],
        [
         "2017-06-04",
         148
        ],
        [
         "2017-06-05",
         187
        ],
        [
         "2017-06-06",
         216
        ],
        [
         "2017-06-07",
         222
        ],
        [
         "2017-06-08",
         171
        ],
        [
         "2017-06-09",
         182
        ],
        [
         "2017-06-10",
         151
        ],
        [
         "2017-06-11",
         233
        ],
        [
         "2017-06-12",
         153
        ],
        [
         "2017-06-13",
         151
        ],
        [
         "2017-06-14",
         258
        ],
        [
         "2017-06-15",
         195
        ],
        [
         "2017-06-16",
         133
        ],
        [
         "2017-06-17",
         215
        ],
        [
         "2017-06-18",
         163
        ],
        [
         "2017-06-19",
         194
        ],
        [
         "2017-06-20",
         185
        ],
        [
         "2017-06-21",
         218
        ],
        [
         "2017-06-22",
         191
        ],
        [
         "2017-06-23",
         161
        ],
        [
         "2017-06-24",
         196
        ],
        [
         "2017-06-25",
         189
        ],
        [
         "2017-06-26",
         187
        ],
        [
         "2017-06-27",
         172
        ],
        [
         "2017-06-28",
         215
        ],
        [
         "2017-06-29",
         172
        ],
        [
         "2017-06-30",
         136
        ]
       ],
       "datasetInfos": [],
       "dbfsResultPath": null,
       "isJsonSchema": true,
       "metadata": {},
       "overflow": false,
       "plotOptions": {
        "customPlotOptions": {},
        "displayType": "table",
        "pivotAggregation": null,
        "pivotColumns": null,
        "xColumns": null,
        "yColumns": null
       },
       "removedWidgets": [],
       "schema": [
        {
         "metadata": "{\"__detected_date_formats\":\"M/d/yyyy\"}",
         "name": "OrderDate",
         "type": "\"date\""
        },
        {
         "metadata": "{}",
         "name": "count(OrderNumber)",
         "type": "\"long\""
        }
       ],
       "type": "table"
      }
     },
     "output_type": "display_data"
    },
    {
     "data": {
      "text/plain": [
       "Databricks visualization. Run in Databricks to view."
      ]
     },
     "metadata": {
      "application/vnd.databricks.v1.subcommand+json": {
       "baseErrorDetails": null,
       "bindings": {},
       "collapsed": false,
       "command": "%python\n__backend_agg_display_orig = display\n__backend_agg_dfs = []\ndef __backend_agg_display_new(df):\n    __backend_agg_df_modules = [\"pandas.core.frame\", \"databricks.koalas.frame\", \"pyspark.sql.dataframe\", \"pyspark.pandas.frame\", \"pyspark.sql.connect.dataframe\"]\n    if (type(df).__module__ in __backend_agg_df_modules and type(df).__name__ == 'DataFrame') or isinstance(df, list):\n        __backend_agg_dfs.append(df)\n\ndisplay = __backend_agg_display_new\n\ndef __backend_agg_user_code_fn():\n    import base64\n    exec(base64.standard_b64decode(\"ZGZfdG90YWxfb3JkZXJzID0gZGZfc2FsZXNfcG90ZW50aWFsLmdyb3VwQnkoJ09yZGVyRGF0ZScpLmFnZyhjb3VudCgnT3JkZXJOdW1iZXInKSkub3JkZXJCeSgnT3JkZXJEYXRlJykuYWxpYXMoJ1RvdGFsT3JkZXJzJykKZGZfdG90YWxfb3JkZXJzLmRpc3BsYXkoKQ==\").decode())\n\ntry:\n    # run user code\n    __backend_agg_user_code_fn()\n\n    #reset display function\n    display = __backend_agg_display_orig\n\n    if len(__backend_agg_dfs) > 0:\n        # create a temp view\n        if type(__backend_agg_dfs[0]).__module__ == \"databricks.koalas.frame\":\n            # koalas dataframe\n            __backend_agg_dfs[0].to_spark().createOrReplaceTempView(\"DatabricksView34b2faf\")\n        elif type(__backend_agg_dfs[0]).__module__ == \"pandas.core.frame\" or isinstance(__backend_agg_dfs[0], list):\n            # pandas dataframe\n            spark.createDataFrame(__backend_agg_dfs[0]).createOrReplaceTempView(\"DatabricksView34b2faf\")\n        else:\n            __backend_agg_dfs[0].createOrReplaceTempView(\"DatabricksView34b2faf\")\n        #run backend agg\n        display(spark.sql(\"\"\"WITH q AS (select * from DatabricksView34b2faf) SELECT `OrderDate`,SUM(`count(OrderNumber)`) `column_8f9d398e205` FROM q GROUP BY `OrderDate`\"\"\"))\n    else:\n        displayHTML(\"dataframe no longer exists. If you're using dataframe.display(), use display(dataframe) instead.\")\n\n\nfinally:\n    spark.sql(\"drop view if exists DatabricksView34b2faf\")\n    display = __backend_agg_display_orig\n    del __backend_agg_display_new\n    del __backend_agg_display_orig\n    del __backend_agg_dfs\n    del __backend_agg_user_code_fn\n\n",
       "commandTitle": "Visualization 1",
       "commandType": "auto",
       "commandVersion": 0,
       "commentThread": [],
       "commentsVisible": false,
       "contentSha256Hex": null,
       "customPlotOptions": {
        "redashChart": [
         {
          "key": "type",
          "value": "CHART"
         },
         {
          "key": "options",
          "value": {
           "alignYAxesAtZero": true,
           "coefficient": 1,
           "columnConfigurationMap": {
            "x": {
             "column": "OrderDate",
             "id": "column_8f9d398e202"
            },
            "y": [
             {
              "column": "count(OrderNumber)",
              "id": "column_8f9d398e205",
              "transform": "SUM"
             }
            ]
           },
           "dateTimeFormat": "DD/MM/YYYY HH:mm",
           "direction": {
            "type": "counterclockwise"
           },
           "error_y": {
            "type": "data",
            "visible": true
           },
           "globalSeriesType": "line",
           "isAggregationOn": true,
           "legend": {
            "traceorder": "normal"
           },
           "missingValuesAsZero": true,
           "numberFormat": "0,0.[00000]",
           "percentFormat": "0[.]00%",
           "series": {
            "error_y": {
             "type": "data",
             "visible": true
            },
            "stacking": null
           },
           "seriesOptions": {
            "column_8f9d398e203": {
             "name": "count(OrderNumber)",
             "type": "line",
             "yAxis": 0
            },
            "column_8f9d398e205": {
             "name": "count(OrderNumber)",
             "type": "line",
             "yAxis": 0
            },
            "count(OrderNumber)": {
             "name": "count(OrderNumber)",
             "type": "line",
             "yAxis": 0
            }
           },
           "showDataLabels": false,
           "sizemode": "diameter",
           "sortX": true,
           "sortY": true,
           "swappedAxes": false,
           "textFormat": "",
           "useAggregationsUi": true,
           "valuesOptions": {},
           "version": 2,
           "xAxis": {
            "labels": {
             "enabled": true
            },
            "type": "-"
           },
           "yAxis": [
            {
             "type": "-"
            },
            {
             "opposite": true,
             "type": "-"
            }
           ]
          }
         }
        ]
       },
       "datasetPreviewNameToCmdIdMap": {},
       "diffDeletes": [],
       "diffInserts": [],
       "displayType": "redashChart",
       "error": null,
       "errorDetails": null,
       "errorSummary": null,
       "errorTraceType": null,
       "finishTime": 0,
       "globalVars": {},
       "guid": "",
       "height": "auto",
       "hideCommandCode": false,
       "hideCommandResult": false,
       "iPythonMetadata": null,
       "inputWidgets": {},
       "isLockedInExamMode": false,
       "latestUser": "a user",
       "latestUserId": null,
       "listResultMetadata": null,
       "metadata": {},
       "nuid": "53f5ecb0-e933-47a4-ba4a-c41fdeb768ba",
       "origId": 0,
       "parentHierarchy": [],
       "pivotAggregation": null,
       "pivotColumns": null,
       "position": 20,
       "resultDbfsErrorMessage": null,
       "resultDbfsStatus": "INLINED_IN_TREE",
       "results": null,
       "showCommandTitle": false,
       "startTime": 0,
       "state": "input",
       "streamStates": {},
       "subcommandOptions": {
        "queryPlan": {
         "groups": [
          {
           "column": "OrderDate",
           "type": "column"
          }
         ],
         "selects": [
          {
           "column": "OrderDate",
           "type": "column"
          },
          {
           "alias": "column_8f9d398e205",
           "args": [
            {
             "column": "count(OrderNumber)",
             "type": "column"
            }
           ],
           "function": "SUM",
           "type": "function"
          }
         ]
        }
       },
       "submitTime": 0,
       "subtype": "tableResultSubCmd.visualization",
       "tableResultIndex": 0,
       "tableResultSettingsMap": {},
       "useConsistentColors": false,
       "version": "CommandV1",
       "width": "auto",
       "workflows": [],
       "xColumns": null,
       "yColumns": null
      }
     },
     "output_type": "display_data"
    }
   ],
   "source": [
    "df_total_orders = df_sales_potential.groupBy('OrderDate').agg(count('OrderNumber')).orderBy('OrderDate').alias('TotalOrders')\n",
    "# df_total_orders.display()"
   ]
  }
 ],
 "metadata": {
  "application/vnd.databricks.v1+notebook": {
   "computePreferences": null,
   "dashboards": [],
   "environmentMetadata": {
    "base_environment": "",
    "client": "1"
   },
   "language": "python",
   "notebookMetadata": {
    "pythonIndentUnit": 4
   },
   "notebookName": "Silver_Transformation",
   "widgets": {}
  },
  "language_info": {
   "name": "python"
  }
 },
 "nbformat": 4,
 "nbformat_minor": 0
}
